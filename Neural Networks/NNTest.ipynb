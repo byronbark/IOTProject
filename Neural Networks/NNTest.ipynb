{
  "nbformat": 4,
  "nbformat_minor": 0,
  "metadata": {
    "colab": {
      "name": "NNTest",
      "provenance": []
    },
    "kernelspec": {
      "name": "python3",
      "display_name": "Python 3"
    }
  },
  "cells": [
    {
      "cell_type": "code",
      "metadata": {
        "colab": {
          "base_uri": "https://localhost:8080/"
        },
        "id": "83RUuhCzbDpy",
        "outputId": "deb86008-d184-45ce-991b-218040de0e53"
      },
      "source": [
        "import pandas as pd\r\n",
        "import numpy as np\r\n",
        "import matplotlib.pyplot as plt\r\n",
        "from collections import Counter\r\n",
        "\r\n",
        "from imblearn.over_sampling import SMOTE\r\n",
        "\r\n",
        "from sklearn.preprocessing import MinMaxScaler\r\n",
        "from sklearn.utils import shuffle\r\n",
        "from sklearn.model_selection import train_test_split\r\n",
        "from sklearn.utils.multiclass import unique_labels\r\n",
        "\r\n",
        "import tensorflow as tf\r\n",
        "import tensorflow.keras as keras\r\n",
        "from tensorflow.keras.layers import Dense\r\n",
        "from tensorflow.keras.models import Sequential, load_model\r\n",
        "from tensorflow.keras.utils import plot_model\r\n",
        "from tensorflow.keras.callbacks import ModelCheckpoint, CSVLogger\r\n",
        "\r\n",
        "\r\n",
        "\r\n",
        "!pip install category_encoders\r\n",
        "import category_encoders as ce\r\n",
        "\r\n",
        "\r\n",
        "\r\n",
        "\r\n",
        "# The following library is to plot the loss during training\r\n",
        "# https://github.com/stared/livelossplot\r\n",
        "! pip install livelossplot\r\n",
        "from livelossplot import PlotLossesKerasTF\r\n",
        "\r\n",
        "\r\n",
        "# Import the visualization library I prepared for you\r\n",
        "! wget https://raw.githubusercontent.com/andreaaraldo/machine-learning-for-networks/master/course_library/visualization.py --no-check-certificate\r\n",
        "from visualization import plot_conf_mat\r\n",
        "\r\n",
        "\r\n",
        "# The following is to be able to mount Google Drive\r\n",
        "from google.colab import drive\r\n",
        "\r\n",
        "import os\r\n",
        "from os.path import isfile"
      ],
      "execution_count": 1,
      "outputs": [
        {
          "output_type": "stream",
          "text": [
            "/usr/local/lib/python3.6/dist-packages/sklearn/externals/six.py:31: FutureWarning: The module is deprecated in version 0.21 and will be removed in version 0.23 since we've dropped support for Python 2.7. Please rely on the official version of six (https://pypi.org/project/six/).\n",
            "  \"(https://pypi.org/project/six/).\", FutureWarning)\n",
            "/usr/local/lib/python3.6/dist-packages/sklearn/utils/deprecation.py:144: FutureWarning: The sklearn.neighbors.base module is  deprecated in version 0.22 and will be removed in version 0.24. The corresponding classes / functions should instead be imported from sklearn.neighbors. Anything that cannot be imported from sklearn.neighbors is now part of the private API.\n",
            "  warnings.warn(message, FutureWarning)\n"
          ],
          "name": "stderr"
        },
        {
          "output_type": "stream",
          "text": [
            "Collecting category_encoders\n",
            "\u001b[?25l  Downloading https://files.pythonhosted.org/packages/44/57/fcef41c248701ee62e8325026b90c432adea35555cbc870aff9cfba23727/category_encoders-2.2.2-py2.py3-none-any.whl (80kB)\n",
            "\r\u001b[K     |████                            | 10kB 15.2MB/s eta 0:00:01\r\u001b[K     |████████▏                       | 20kB 9.3MB/s eta 0:00:01\r\u001b[K     |████████████▏                   | 30kB 7.7MB/s eta 0:00:01\r\u001b[K     |████████████████▎               | 40kB 6.9MB/s eta 0:00:01\r\u001b[K     |████████████████████▎           | 51kB 4.4MB/s eta 0:00:01\r\u001b[K     |████████████████████████▍       | 61kB 4.8MB/s eta 0:00:01\r\u001b[K     |████████████████████████████▍   | 71kB 5.0MB/s eta 0:00:01\r\u001b[K     |████████████████████████████████| 81kB 3.4MB/s \n",
            "\u001b[?25hRequirement already satisfied: statsmodels>=0.9.0 in /usr/local/lib/python3.6/dist-packages (from category_encoders) (0.10.2)\n",
            "Requirement already satisfied: numpy>=1.14.0 in /usr/local/lib/python3.6/dist-packages (from category_encoders) (1.19.4)\n",
            "Requirement already satisfied: pandas>=0.21.1 in /usr/local/lib/python3.6/dist-packages (from category_encoders) (1.1.5)\n",
            "Requirement already satisfied: scikit-learn>=0.20.0 in /usr/local/lib/python3.6/dist-packages (from category_encoders) (0.22.2.post1)\n",
            "Requirement already satisfied: patsy>=0.5.1 in /usr/local/lib/python3.6/dist-packages (from category_encoders) (0.5.1)\n",
            "Requirement already satisfied: scipy>=1.0.0 in /usr/local/lib/python3.6/dist-packages (from category_encoders) (1.4.1)\n",
            "Requirement already satisfied: python-dateutil>=2.7.3 in /usr/local/lib/python3.6/dist-packages (from pandas>=0.21.1->category_encoders) (2.8.1)\n",
            "Requirement already satisfied: pytz>=2017.2 in /usr/local/lib/python3.6/dist-packages (from pandas>=0.21.1->category_encoders) (2018.9)\n",
            "Requirement already satisfied: joblib>=0.11 in /usr/local/lib/python3.6/dist-packages (from scikit-learn>=0.20.0->category_encoders) (1.0.0)\n",
            "Requirement already satisfied: six in /usr/local/lib/python3.6/dist-packages (from patsy>=0.5.1->category_encoders) (1.15.0)\n",
            "Installing collected packages: category-encoders\n",
            "Successfully installed category-encoders-2.2.2\n"
          ],
          "name": "stdout"
        },
        {
          "output_type": "stream",
          "text": [
            "/usr/local/lib/python3.6/dist-packages/statsmodels/tools/_testing.py:19: FutureWarning: pandas.util.testing is deprecated. Use the functions in the public API at pandas.testing instead.\n",
            "  import pandas.util.testing as tm\n"
          ],
          "name": "stderr"
        },
        {
          "output_type": "stream",
          "text": [
            "Collecting livelossplot\n",
            "  Downloading https://files.pythonhosted.org/packages/0f/08/1884157a3de72d41fa97cacacafaa49abf00eba53cb7e08615b2b65b4a9d/livelossplot-0.5.3-py3-none-any.whl\n",
            "Requirement already satisfied: bokeh; python_version >= \"3.6\" in /usr/local/lib/python3.6/dist-packages (from livelossplot) (2.1.1)\n",
            "Requirement already satisfied: matplotlib; python_version >= \"3.6\" in /usr/local/lib/python3.6/dist-packages (from livelossplot) (3.2.2)\n",
            "Requirement already satisfied: ipython in /usr/local/lib/python3.6/dist-packages (from livelossplot) (5.5.0)\n",
            "Requirement already satisfied: numpy>=1.11.3 in /usr/local/lib/python3.6/dist-packages (from bokeh; python_version >= \"3.6\"->livelossplot) (1.19.4)\n",
            "Requirement already satisfied: tornado>=5.1 in /usr/local/lib/python3.6/dist-packages (from bokeh; python_version >= \"3.6\"->livelossplot) (5.1.1)\n",
            "Requirement already satisfied: python-dateutil>=2.1 in /usr/local/lib/python3.6/dist-packages (from bokeh; python_version >= \"3.6\"->livelossplot) (2.8.1)\n",
            "Requirement already satisfied: PyYAML>=3.10 in /usr/local/lib/python3.6/dist-packages (from bokeh; python_version >= \"3.6\"->livelossplot) (3.13)\n",
            "Requirement already satisfied: pillow>=4.0 in /usr/local/lib/python3.6/dist-packages (from bokeh; python_version >= \"3.6\"->livelossplot) (7.0.0)\n",
            "Requirement already satisfied: typing-extensions>=3.7.4 in /usr/local/lib/python3.6/dist-packages (from bokeh; python_version >= \"3.6\"->livelossplot) (3.7.4.3)\n",
            "Requirement already satisfied: packaging>=16.8 in /usr/local/lib/python3.6/dist-packages (from bokeh; python_version >= \"3.6\"->livelossplot) (20.8)\n",
            "Requirement already satisfied: Jinja2>=2.7 in /usr/local/lib/python3.6/dist-packages (from bokeh; python_version >= \"3.6\"->livelossplot) (2.11.2)\n",
            "Requirement already satisfied: pyparsing!=2.0.4,!=2.1.2,!=2.1.6,>=2.0.1 in /usr/local/lib/python3.6/dist-packages (from matplotlib; python_version >= \"3.6\"->livelossplot) (2.4.7)\n",
            "Requirement already satisfied: kiwisolver>=1.0.1 in /usr/local/lib/python3.6/dist-packages (from matplotlib; python_version >= \"3.6\"->livelossplot) (1.3.1)\n",
            "Requirement already satisfied: cycler>=0.10 in /usr/local/lib/python3.6/dist-packages (from matplotlib; python_version >= \"3.6\"->livelossplot) (0.10.0)\n",
            "Requirement already satisfied: prompt-toolkit<2.0.0,>=1.0.4 in /usr/local/lib/python3.6/dist-packages (from ipython->livelossplot) (1.0.18)\n",
            "Requirement already satisfied: setuptools>=18.5 in /usr/local/lib/python3.6/dist-packages (from ipython->livelossplot) (50.3.2)\n",
            "Requirement already satisfied: traitlets>=4.2 in /usr/local/lib/python3.6/dist-packages (from ipython->livelossplot) (4.3.3)\n",
            "Requirement already satisfied: pickleshare in /usr/local/lib/python3.6/dist-packages (from ipython->livelossplot) (0.7.5)\n",
            "Requirement already satisfied: pygments in /usr/local/lib/python3.6/dist-packages (from ipython->livelossplot) (2.6.1)\n",
            "Requirement already satisfied: pexpect; sys_platform != \"win32\" in /usr/local/lib/python3.6/dist-packages (from ipython->livelossplot) (4.8.0)\n",
            "Requirement already satisfied: simplegeneric>0.8 in /usr/local/lib/python3.6/dist-packages (from ipython->livelossplot) (0.8.1)\n",
            "Requirement already satisfied: decorator in /usr/local/lib/python3.6/dist-packages (from ipython->livelossplot) (4.4.2)\n",
            "Requirement already satisfied: six>=1.5 in /usr/local/lib/python3.6/dist-packages (from python-dateutil>=2.1->bokeh; python_version >= \"3.6\"->livelossplot) (1.15.0)\n",
            "Requirement already satisfied: MarkupSafe>=0.23 in /usr/local/lib/python3.6/dist-packages (from Jinja2>=2.7->bokeh; python_version >= \"3.6\"->livelossplot) (1.1.1)\n",
            "Requirement already satisfied: wcwidth in /usr/local/lib/python3.6/dist-packages (from prompt-toolkit<2.0.0,>=1.0.4->ipython->livelossplot) (0.2.5)\n",
            "Requirement already satisfied: ipython-genutils in /usr/local/lib/python3.6/dist-packages (from traitlets>=4.2->ipython->livelossplot) (0.2.0)\n",
            "Requirement already satisfied: ptyprocess>=0.5 in /usr/local/lib/python3.6/dist-packages (from pexpect; sys_platform != \"win32\"->ipython->livelossplot) (0.6.0)\n",
            "Installing collected packages: livelossplot\n",
            "Successfully installed livelossplot-0.5.3\n",
            "--2020-12-18 10:37:02--  https://raw.githubusercontent.com/andreaaraldo/machine-learning-for-networks/master/course_library/visualization.py\n",
            "Resolving raw.githubusercontent.com (raw.githubusercontent.com)... 151.101.0.133, 151.101.64.133, 151.101.128.133, ...\n",
            "Connecting to raw.githubusercontent.com (raw.githubusercontent.com)|151.101.0.133|:443... connected.\n",
            "HTTP request sent, awaiting response... 200 OK\n",
            "Length: 13008 (13K) [text/plain]\n",
            "Saving to: ‘visualization.py’\n",
            "\n",
            "visualization.py    100%[===================>]  12.70K  --.-KB/s    in 0s      \n",
            "\n",
            "2020-12-18 10:37:02 (114 MB/s) - ‘visualization.py’ saved [13008/13008]\n",
            "\n"
          ],
          "name": "stdout"
        }
      ]
    },
    {
      "cell_type": "code",
      "metadata": {
        "colab": {
          "base_uri": "https://localhost:8080/"
        },
        "id": "hjBwx7S8bb3H",
        "outputId": "ec47b8dc-79d7-4e95-ffbb-59d82e85f6d0"
      },
      "source": [
        "mount_point = '/content/gdrive' # Always the same, don't change it\r\n",
        "drive.mount(mount_point, force_remount=True)\r\n",
        "drive_path = mount_point + '/My Drive/' # Always the same, don't change it\r\n",
        "\r\n",
        "# Replace the following folder with some folder inside your google drive\r\n",
        "my_path = drive_path + \\\r\n",
        "  'MLTools/'"
      ],
      "execution_count": 5,
      "outputs": [
        {
          "output_type": "stream",
          "text": [
            "Mounted at /content/gdrive\n"
          ],
          "name": "stdout"
        }
      ]
    },
    {
      "cell_type": "code",
      "metadata": {
        "id": "rN_CT27PbckR"
      },
      "source": [
        "sourcehome = pd.read_csv(\"/content/gdrive/My Drive/MLTools/allhome.csv\")\r\n",
        "sourceother = pd.read_csv(\"/content/gdrive/My Drive/MLTools/allnothome.csv\")\r\n",
        "targethome = pd.read_csv(\"/content/gdrive/My Drive/MLTools/targethome.csv\")"
      ],
      "execution_count": 54,
      "outputs": []
    },
    {
      "cell_type": "code",
      "metadata": {
        "colab": {
          "base_uri": "https://localhost:8080/",
          "height": 474
        },
        "id": "cI7DzvyecqQp",
        "outputId": "5ae4f651-5300-471a-a23a-ac3996ab240a"
      },
      "source": [
        "dftargethome.head(n=5)\r\n"
      ],
      "execution_count": 55,
      "outputs": [
        {
          "output_type": "execute_result",
          "data": {
            "text/html": [
              "<div>\n",
              "<style scoped>\n",
              "    .dataframe tbody tr th:only-of-type {\n",
              "        vertical-align: middle;\n",
              "    }\n",
              "\n",
              "    .dataframe tbody tr th {\n",
              "        vertical-align: top;\n",
              "    }\n",
              "\n",
              "    .dataframe thead th {\n",
              "        text-align: right;\n",
              "    }\n",
              "</style>\n",
              "<table border=\"1\" class=\"dataframe\">\n",
              "  <thead>\n",
              "    <tr style=\"text-align: right;\">\n",
              "      <th></th>\n",
              "      <th>Flow ID</th>\n",
              "      <th>Src IP</th>\n",
              "      <th>Src Port</th>\n",
              "      <th>Dst IP</th>\n",
              "      <th>Dst Port</th>\n",
              "      <th>Protocol</th>\n",
              "      <th>Timestamp</th>\n",
              "      <th>Flow Duration</th>\n",
              "      <th>Tot Fwd Pkts</th>\n",
              "      <th>Tot Bwd Pkts</th>\n",
              "      <th>TotLen Fwd Pkts</th>\n",
              "      <th>TotLen Bwd Pkts</th>\n",
              "      <th>Fwd Pkt Len Max</th>\n",
              "      <th>Fwd Pkt Len Min</th>\n",
              "      <th>Fwd Pkt Len Mean</th>\n",
              "      <th>Fwd Pkt Len Std</th>\n",
              "      <th>Bwd Pkt Len Max</th>\n",
              "      <th>Bwd Pkt Len Min</th>\n",
              "      <th>Bwd Pkt Len Mean</th>\n",
              "      <th>Bwd Pkt Len Std</th>\n",
              "      <th>Flow Byts/s</th>\n",
              "      <th>Flow Pkts/s</th>\n",
              "      <th>Flow IAT Mean</th>\n",
              "      <th>Flow IAT Std</th>\n",
              "      <th>Flow IAT Max</th>\n",
              "      <th>Flow IAT Min</th>\n",
              "      <th>Fwd IAT Tot</th>\n",
              "      <th>Fwd IAT Mean</th>\n",
              "      <th>Fwd IAT Std</th>\n",
              "      <th>Fwd IAT Max</th>\n",
              "      <th>Fwd IAT Min</th>\n",
              "      <th>Bwd IAT Tot</th>\n",
              "      <th>Bwd IAT Mean</th>\n",
              "      <th>Bwd IAT Std</th>\n",
              "      <th>Bwd IAT Max</th>\n",
              "      <th>Bwd IAT Min</th>\n",
              "      <th>Fwd PSH Flags</th>\n",
              "      <th>Bwd PSH Flags</th>\n",
              "      <th>Fwd URG Flags</th>\n",
              "      <th>Bwd URG Flags</th>\n",
              "      <th>...</th>\n",
              "      <th>Pkt Len Min</th>\n",
              "      <th>Pkt Len Max</th>\n",
              "      <th>Pkt Len Mean</th>\n",
              "      <th>Pkt Len Std</th>\n",
              "      <th>Pkt Len Var</th>\n",
              "      <th>FIN Flag Cnt</th>\n",
              "      <th>SYN Flag Cnt</th>\n",
              "      <th>RST Flag Cnt</th>\n",
              "      <th>PSH Flag Cnt</th>\n",
              "      <th>ACK Flag Cnt</th>\n",
              "      <th>URG Flag Cnt</th>\n",
              "      <th>CWE Flag Count</th>\n",
              "      <th>ECE Flag Cnt</th>\n",
              "      <th>Down/Up Ratio</th>\n",
              "      <th>Pkt Size Avg</th>\n",
              "      <th>Fwd Seg Size Avg</th>\n",
              "      <th>Bwd Seg Size Avg</th>\n",
              "      <th>Fwd Byts/b Avg</th>\n",
              "      <th>Fwd Pkts/b Avg</th>\n",
              "      <th>Fwd Blk Rate Avg</th>\n",
              "      <th>Bwd Byts/b Avg</th>\n",
              "      <th>Bwd Pkts/b Avg</th>\n",
              "      <th>Bwd Blk Rate Avg</th>\n",
              "      <th>Subflow Fwd Pkts</th>\n",
              "      <th>Subflow Fwd Byts</th>\n",
              "      <th>Subflow Bwd Pkts</th>\n",
              "      <th>Subflow Bwd Byts</th>\n",
              "      <th>Init Fwd Win Byts</th>\n",
              "      <th>Init Bwd Win Byts</th>\n",
              "      <th>Fwd Act Data Pkts</th>\n",
              "      <th>Fwd Seg Size Min</th>\n",
              "      <th>Active Mean</th>\n",
              "      <th>Active Std</th>\n",
              "      <th>Active Max</th>\n",
              "      <th>Active Min</th>\n",
              "      <th>Idle Mean</th>\n",
              "      <th>Idle Std</th>\n",
              "      <th>Idle Max</th>\n",
              "      <th>Idle Min</th>\n",
              "      <th>Label</th>\n",
              "    </tr>\n",
              "  </thead>\n",
              "  <tbody>\n",
              "    <tr>\n",
              "      <th>0</th>\n",
              "      <td>192.168.10.32-216.58.204.110-42367-80-6</td>\n",
              "      <td>192.168.10.32</td>\n",
              "      <td>42367</td>\n",
              "      <td>216.58.204.110</td>\n",
              "      <td>80</td>\n",
              "      <td>6</td>\n",
              "      <td>19/04/2018 04:43:23 PM</td>\n",
              "      <td>13821</td>\n",
              "      <td>5</td>\n",
              "      <td>3</td>\n",
              "      <td>71</td>\n",
              "      <td>83</td>\n",
              "      <td>71</td>\n",
              "      <td>0</td>\n",
              "      <td>14.2</td>\n",
              "      <td>31.752165</td>\n",
              "      <td>83</td>\n",
              "      <td>0</td>\n",
              "      <td>27.666667</td>\n",
              "      <td>47.920072</td>\n",
              "      <td>11142.464370</td>\n",
              "      <td>578.829318</td>\n",
              "      <td>1.974429e+03</td>\n",
              "      <td>1.934825e+03</td>\n",
              "      <td>5279.0</td>\n",
              "      <td>102.0</td>\n",
              "      <td>13821.0</td>\n",
              "      <td>3455.25</td>\n",
              "      <td>4086.838499</td>\n",
              "      <td>8410.0</td>\n",
              "      <td>102.0</td>\n",
              "      <td>5554.0</td>\n",
              "      <td>2777.0</td>\n",
              "      <td>3.514321e+03</td>\n",
              "      <td>5262.0</td>\n",
              "      <td>292.0</td>\n",
              "      <td>0</td>\n",
              "      <td>0</td>\n",
              "      <td>0</td>\n",
              "      <td>0</td>\n",
              "      <td>...</td>\n",
              "      <td>0</td>\n",
              "      <td>83</td>\n",
              "      <td>17.111111</td>\n",
              "      <td>34.086084</td>\n",
              "      <td>1161.861111</td>\n",
              "      <td>1</td>\n",
              "      <td>2</td>\n",
              "      <td>0</td>\n",
              "      <td>2</td>\n",
              "      <td>7</td>\n",
              "      <td>0</td>\n",
              "      <td>0</td>\n",
              "      <td>0</td>\n",
              "      <td>0</td>\n",
              "      <td>19.250000</td>\n",
              "      <td>14.2</td>\n",
              "      <td>27.666667</td>\n",
              "      <td>0</td>\n",
              "      <td>0</td>\n",
              "      <td>0</td>\n",
              "      <td>0</td>\n",
              "      <td>0</td>\n",
              "      <td>0</td>\n",
              "      <td>0</td>\n",
              "      <td>8</td>\n",
              "      <td>0</td>\n",
              "      <td>10</td>\n",
              "      <td>14600</td>\n",
              "      <td>166</td>\n",
              "      <td>1</td>\n",
              "      <td>32</td>\n",
              "      <td>0</td>\n",
              "      <td>0</td>\n",
              "      <td>0</td>\n",
              "      <td>0</td>\n",
              "      <td>1.520000e+15</td>\n",
              "      <td>4.499360e+03</td>\n",
              "      <td>1.520000e+15</td>\n",
              "      <td>1.520000e+15</td>\n",
              "      <td>1</td>\n",
              "    </tr>\n",
              "    <tr>\n",
              "      <th>1</th>\n",
              "      <td>192.168.10.32-216.58.204.110-53792-443-6</td>\n",
              "      <td>192.168.10.32</td>\n",
              "      <td>53792</td>\n",
              "      <td>216.58.204.110</td>\n",
              "      <td>443</td>\n",
              "      <td>6</td>\n",
              "      <td>19/04/2018 04:43:04 PM</td>\n",
              "      <td>59640660</td>\n",
              "      <td>2</td>\n",
              "      <td>4</td>\n",
              "      <td>0</td>\n",
              "      <td>55</td>\n",
              "      <td>0</td>\n",
              "      <td>0</td>\n",
              "      <td>0.0</td>\n",
              "      <td>0.000000</td>\n",
              "      <td>55</td>\n",
              "      <td>0</td>\n",
              "      <td>13.750000</td>\n",
              "      <td>27.500000</td>\n",
              "      <td>0.922190</td>\n",
              "      <td>0.100603</td>\n",
              "      <td>1.190000e+07</td>\n",
              "      <td>1.960000e+07</td>\n",
              "      <td>45100000.0</td>\n",
              "      <td>55.0</td>\n",
              "      <td>45100000.0</td>\n",
              "      <td>45100000.00</td>\n",
              "      <td>0.000000</td>\n",
              "      <td>45100000.0</td>\n",
              "      <td>45100000.0</td>\n",
              "      <td>59600000.0</td>\n",
              "      <td>19900000.0</td>\n",
              "      <td>2.300000e+07</td>\n",
              "      <td>45100000.0</td>\n",
              "      <td>55.0</td>\n",
              "      <td>0</td>\n",
              "      <td>0</td>\n",
              "      <td>0</td>\n",
              "      <td>0</td>\n",
              "      <td>...</td>\n",
              "      <td>0</td>\n",
              "      <td>55</td>\n",
              "      <td>7.857143</td>\n",
              "      <td>20.788046</td>\n",
              "      <td>432.142857</td>\n",
              "      <td>1</td>\n",
              "      <td>0</td>\n",
              "      <td>0</td>\n",
              "      <td>1</td>\n",
              "      <td>6</td>\n",
              "      <td>0</td>\n",
              "      <td>0</td>\n",
              "      <td>0</td>\n",
              "      <td>2</td>\n",
              "      <td>9.166667</td>\n",
              "      <td>0.0</td>\n",
              "      <td>13.750000</td>\n",
              "      <td>0</td>\n",
              "      <td>0</td>\n",
              "      <td>0</td>\n",
              "      <td>0</td>\n",
              "      <td>0</td>\n",
              "      <td>0</td>\n",
              "      <td>0</td>\n",
              "      <td>0</td>\n",
              "      <td>0</td>\n",
              "      <td>9</td>\n",
              "      <td>494</td>\n",
              "      <td>208</td>\n",
              "      <td>0</td>\n",
              "      <td>32</td>\n",
              "      <td>0</td>\n",
              "      <td>0</td>\n",
              "      <td>0</td>\n",
              "      <td>0</td>\n",
              "      <td>1.520000e+15</td>\n",
              "      <td>3.110000e+07</td>\n",
              "      <td>1.520000e+15</td>\n",
              "      <td>1.520000e+15</td>\n",
              "      <td>1</td>\n",
              "    </tr>\n",
              "    <tr>\n",
              "      <th>2</th>\n",
              "      <td>192.168.10.32-216.58.204.110-53792-443-6</td>\n",
              "      <td>192.168.10.32</td>\n",
              "      <td>53792</td>\n",
              "      <td>216.58.204.110</td>\n",
              "      <td>443</td>\n",
              "      <td>6</td>\n",
              "      <td>19/04/2018 04:44:04 PM</td>\n",
              "      <td>104</td>\n",
              "      <td>2</td>\n",
              "      <td>0</td>\n",
              "      <td>0</td>\n",
              "      <td>0</td>\n",
              "      <td>0</td>\n",
              "      <td>0</td>\n",
              "      <td>0.0</td>\n",
              "      <td>0.000000</td>\n",
              "      <td>0</td>\n",
              "      <td>0</td>\n",
              "      <td>0.000000</td>\n",
              "      <td>0.000000</td>\n",
              "      <td>0.000000</td>\n",
              "      <td>19230.769230</td>\n",
              "      <td>1.040000e+02</td>\n",
              "      <td>0.000000e+00</td>\n",
              "      <td>104.0</td>\n",
              "      <td>104.0</td>\n",
              "      <td>104.0</td>\n",
              "      <td>104.00</td>\n",
              "      <td>0.000000</td>\n",
              "      <td>104.0</td>\n",
              "      <td>104.0</td>\n",
              "      <td>0.0</td>\n",
              "      <td>0.0</td>\n",
              "      <td>0.000000e+00</td>\n",
              "      <td>0.0</td>\n",
              "      <td>0.0</td>\n",
              "      <td>0</td>\n",
              "      <td>0</td>\n",
              "      <td>0</td>\n",
              "      <td>0</td>\n",
              "      <td>...</td>\n",
              "      <td>0</td>\n",
              "      <td>0</td>\n",
              "      <td>0.000000</td>\n",
              "      <td>0.000000</td>\n",
              "      <td>0.000000</td>\n",
              "      <td>1</td>\n",
              "      <td>0</td>\n",
              "      <td>0</td>\n",
              "      <td>0</td>\n",
              "      <td>2</td>\n",
              "      <td>0</td>\n",
              "      <td>0</td>\n",
              "      <td>0</td>\n",
              "      <td>0</td>\n",
              "      <td>0.000000</td>\n",
              "      <td>0.0</td>\n",
              "      <td>0.000000</td>\n",
              "      <td>0</td>\n",
              "      <td>0</td>\n",
              "      <td>0</td>\n",
              "      <td>0</td>\n",
              "      <td>0</td>\n",
              "      <td>0</td>\n",
              "      <td>1</td>\n",
              "      <td>0</td>\n",
              "      <td>0</td>\n",
              "      <td>0</td>\n",
              "      <td>494</td>\n",
              "      <td>0</td>\n",
              "      <td>0</td>\n",
              "      <td>32</td>\n",
              "      <td>0</td>\n",
              "      <td>0</td>\n",
              "      <td>0</td>\n",
              "      <td>0</td>\n",
              "      <td>0.000000e+00</td>\n",
              "      <td>0.000000e+00</td>\n",
              "      <td>0.000000e+00</td>\n",
              "      <td>0.000000e+00</td>\n",
              "      <td>1</td>\n",
              "    </tr>\n",
              "    <tr>\n",
              "      <th>3</th>\n",
              "      <td>192.168.10.32-216.58.215.42-56811-443-6</td>\n",
              "      <td>192.168.10.32</td>\n",
              "      <td>56811</td>\n",
              "      <td>216.58.215.42</td>\n",
              "      <td>443</td>\n",
              "      <td>6</td>\n",
              "      <td>19/04/2018 04:43:04 PM</td>\n",
              "      <td>59656616</td>\n",
              "      <td>2</td>\n",
              "      <td>4</td>\n",
              "      <td>0</td>\n",
              "      <td>55</td>\n",
              "      <td>0</td>\n",
              "      <td>0</td>\n",
              "      <td>0.0</td>\n",
              "      <td>0.000000</td>\n",
              "      <td>55</td>\n",
              "      <td>0</td>\n",
              "      <td>13.750000</td>\n",
              "      <td>27.500000</td>\n",
              "      <td>0.921943</td>\n",
              "      <td>0.100576</td>\n",
              "      <td>1.190000e+07</td>\n",
              "      <td>1.960000e+07</td>\n",
              "      <td>45100000.0</td>\n",
              "      <td>55.0</td>\n",
              "      <td>45100000.0</td>\n",
              "      <td>45100000.00</td>\n",
              "      <td>0.000000</td>\n",
              "      <td>45100000.0</td>\n",
              "      <td>45100000.0</td>\n",
              "      <td>59700000.0</td>\n",
              "      <td>19900000.0</td>\n",
              "      <td>2.300000e+07</td>\n",
              "      <td>45100000.0</td>\n",
              "      <td>55.0</td>\n",
              "      <td>0</td>\n",
              "      <td>0</td>\n",
              "      <td>0</td>\n",
              "      <td>0</td>\n",
              "      <td>...</td>\n",
              "      <td>0</td>\n",
              "      <td>55</td>\n",
              "      <td>7.857143</td>\n",
              "      <td>20.788046</td>\n",
              "      <td>432.142857</td>\n",
              "      <td>1</td>\n",
              "      <td>0</td>\n",
              "      <td>0</td>\n",
              "      <td>1</td>\n",
              "      <td>6</td>\n",
              "      <td>0</td>\n",
              "      <td>0</td>\n",
              "      <td>0</td>\n",
              "      <td>2</td>\n",
              "      <td>9.166667</td>\n",
              "      <td>0.0</td>\n",
              "      <td>13.750000</td>\n",
              "      <td>0</td>\n",
              "      <td>0</td>\n",
              "      <td>0</td>\n",
              "      <td>0</td>\n",
              "      <td>0</td>\n",
              "      <td>0</td>\n",
              "      <td>0</td>\n",
              "      <td>0</td>\n",
              "      <td>0</td>\n",
              "      <td>9</td>\n",
              "      <td>451</td>\n",
              "      <td>183</td>\n",
              "      <td>0</td>\n",
              "      <td>32</td>\n",
              "      <td>0</td>\n",
              "      <td>0</td>\n",
              "      <td>0</td>\n",
              "      <td>0</td>\n",
              "      <td>1.520000e+15</td>\n",
              "      <td>3.110000e+07</td>\n",
              "      <td>1.520000e+15</td>\n",
              "      <td>1.520000e+15</td>\n",
              "      <td>1</td>\n",
              "    </tr>\n",
              "    <tr>\n",
              "      <th>4</th>\n",
              "      <td>192.168.10.32-216.58.204.110-42368-80-6</td>\n",
              "      <td>192.168.10.32</td>\n",
              "      <td>42368</td>\n",
              "      <td>216.58.204.110</td>\n",
              "      <td>80</td>\n",
              "      <td>6</td>\n",
              "      <td>19/04/2018 04:44:25 PM</td>\n",
              "      <td>13223</td>\n",
              "      <td>5</td>\n",
              "      <td>3</td>\n",
              "      <td>71</td>\n",
              "      <td>83</td>\n",
              "      <td>71</td>\n",
              "      <td>0</td>\n",
              "      <td>14.2</td>\n",
              "      <td>31.752165</td>\n",
              "      <td>83</td>\n",
              "      <td>0</td>\n",
              "      <td>27.666667</td>\n",
              "      <td>47.920072</td>\n",
              "      <td>11646.373740</td>\n",
              "      <td>605.006428</td>\n",
              "      <td>1.889000e+03</td>\n",
              "      <td>2.318230e+03</td>\n",
              "      <td>6371.0</td>\n",
              "      <td>55.0</td>\n",
              "      <td>13223.0</td>\n",
              "      <td>3305.75</td>\n",
              "      <td>4305.696566</td>\n",
              "      <td>9224.0</td>\n",
              "      <td>100.0</td>\n",
              "      <td>3954.0</td>\n",
              "      <td>1977.0</td>\n",
              "      <td>2.718118e+03</td>\n",
              "      <td>3899.0</td>\n",
              "      <td>55.0</td>\n",
              "      <td>0</td>\n",
              "      <td>0</td>\n",
              "      <td>0</td>\n",
              "      <td>0</td>\n",
              "      <td>...</td>\n",
              "      <td>0</td>\n",
              "      <td>83</td>\n",
              "      <td>17.111111</td>\n",
              "      <td>34.086084</td>\n",
              "      <td>1161.861111</td>\n",
              "      <td>1</td>\n",
              "      <td>2</td>\n",
              "      <td>0</td>\n",
              "      <td>2</td>\n",
              "      <td>7</td>\n",
              "      <td>0</td>\n",
              "      <td>0</td>\n",
              "      <td>0</td>\n",
              "      <td>0</td>\n",
              "      <td>19.250000</td>\n",
              "      <td>14.2</td>\n",
              "      <td>27.666667</td>\n",
              "      <td>0</td>\n",
              "      <td>0</td>\n",
              "      <td>0</td>\n",
              "      <td>0</td>\n",
              "      <td>0</td>\n",
              "      <td>0</td>\n",
              "      <td>0</td>\n",
              "      <td>8</td>\n",
              "      <td>0</td>\n",
              "      <td>10</td>\n",
              "      <td>14600</td>\n",
              "      <td>166</td>\n",
              "      <td>1</td>\n",
              "      <td>32</td>\n",
              "      <td>0</td>\n",
              "      <td>0</td>\n",
              "      <td>0</td>\n",
              "      <td>0</td>\n",
              "      <td>1.520000e+15</td>\n",
              "      <td>4.688463e+03</td>\n",
              "      <td>1.520000e+15</td>\n",
              "      <td>1.520000e+15</td>\n",
              "      <td>1</td>\n",
              "    </tr>\n",
              "  </tbody>\n",
              "</table>\n",
              "<p>5 rows × 84 columns</p>\n",
              "</div>"
            ],
            "text/plain": [
              "                                    Flow ID         Src IP  ...      Idle Min Label\n",
              "0   192.168.10.32-216.58.204.110-42367-80-6  192.168.10.32  ...  1.520000e+15     1\n",
              "1  192.168.10.32-216.58.204.110-53792-443-6  192.168.10.32  ...  1.520000e+15     1\n",
              "2  192.168.10.32-216.58.204.110-53792-443-6  192.168.10.32  ...  0.000000e+00     1\n",
              "3   192.168.10.32-216.58.215.42-56811-443-6  192.168.10.32  ...  1.520000e+15     1\n",
              "4   192.168.10.32-216.58.204.110-42368-80-6  192.168.10.32  ...  1.520000e+15     1\n",
              "\n",
              "[5 rows x 84 columns]"
            ]
          },
          "metadata": {
            "tags": []
          },
          "execution_count": 55
        }
      ]
    },
    {
      "cell_type": "code",
      "metadata": {
        "id": "knxMtoYFctXv"
      },
      "source": [
        "sourcehome = sourcehome[sourcehome['Protocol'] == 6]\r\n",
        "sourceother = sourceother[sourceother['Protocol'] == 6]\r\n",
        "targethome = targethome[targethome['Protocol'] == 6]\r\n"
      ],
      "execution_count": 56,
      "outputs": []
    },
    {
      "cell_type": "code",
      "metadata": {
        "colab": {
          "base_uri": "https://localhost:8080/",
          "height": 881
        },
        "id": "n5efRwXCepTR",
        "outputId": "e63a2909-270b-4c20-c74f-6503dd163d8e"
      },
      "source": [
        "print(sourcehome.shape)\r\n",
        "print(sourceother.shape)\r\n",
        "print(targethome.shape)\r\n",
        "shuffle(targethome)"
      ],
      "execution_count": 57,
      "outputs": [
        {
          "output_type": "stream",
          "text": [
            "(10110, 84)\n",
            "(16242, 84)\n",
            "(38608, 84)\n"
          ],
          "name": "stdout"
        },
        {
          "output_type": "execute_result",
          "data": {
            "text/html": [
              "<div>\n",
              "<style scoped>\n",
              "    .dataframe tbody tr th:only-of-type {\n",
              "        vertical-align: middle;\n",
              "    }\n",
              "\n",
              "    .dataframe tbody tr th {\n",
              "        vertical-align: top;\n",
              "    }\n",
              "\n",
              "    .dataframe thead th {\n",
              "        text-align: right;\n",
              "    }\n",
              "</style>\n",
              "<table border=\"1\" class=\"dataframe\">\n",
              "  <thead>\n",
              "    <tr style=\"text-align: right;\">\n",
              "      <th></th>\n",
              "      <th>Flow ID</th>\n",
              "      <th>Src IP</th>\n",
              "      <th>Src Port</th>\n",
              "      <th>Dst IP</th>\n",
              "      <th>Dst Port</th>\n",
              "      <th>Protocol</th>\n",
              "      <th>Timestamp</th>\n",
              "      <th>Flow Duration</th>\n",
              "      <th>Tot Fwd Pkts</th>\n",
              "      <th>Tot Bwd Pkts</th>\n",
              "      <th>TotLen Fwd Pkts</th>\n",
              "      <th>TotLen Bwd Pkts</th>\n",
              "      <th>Fwd Pkt Len Max</th>\n",
              "      <th>Fwd Pkt Len Min</th>\n",
              "      <th>Fwd Pkt Len Mean</th>\n",
              "      <th>Fwd Pkt Len Std</th>\n",
              "      <th>Bwd Pkt Len Max</th>\n",
              "      <th>Bwd Pkt Len Min</th>\n",
              "      <th>Bwd Pkt Len Mean</th>\n",
              "      <th>Bwd Pkt Len Std</th>\n",
              "      <th>Flow Byts/s</th>\n",
              "      <th>Flow Pkts/s</th>\n",
              "      <th>Flow IAT Mean</th>\n",
              "      <th>Flow IAT Std</th>\n",
              "      <th>Flow IAT Max</th>\n",
              "      <th>Flow IAT Min</th>\n",
              "      <th>Fwd IAT Tot</th>\n",
              "      <th>Fwd IAT Mean</th>\n",
              "      <th>Fwd IAT Std</th>\n",
              "      <th>Fwd IAT Max</th>\n",
              "      <th>Fwd IAT Min</th>\n",
              "      <th>Bwd IAT Tot</th>\n",
              "      <th>Bwd IAT Mean</th>\n",
              "      <th>Bwd IAT Std</th>\n",
              "      <th>Bwd IAT Max</th>\n",
              "      <th>Bwd IAT Min</th>\n",
              "      <th>Fwd PSH Flags</th>\n",
              "      <th>Bwd PSH Flags</th>\n",
              "      <th>Fwd URG Flags</th>\n",
              "      <th>Bwd URG Flags</th>\n",
              "      <th>...</th>\n",
              "      <th>Pkt Len Min</th>\n",
              "      <th>Pkt Len Max</th>\n",
              "      <th>Pkt Len Mean</th>\n",
              "      <th>Pkt Len Std</th>\n",
              "      <th>Pkt Len Var</th>\n",
              "      <th>FIN Flag Cnt</th>\n",
              "      <th>SYN Flag Cnt</th>\n",
              "      <th>RST Flag Cnt</th>\n",
              "      <th>PSH Flag Cnt</th>\n",
              "      <th>ACK Flag Cnt</th>\n",
              "      <th>URG Flag Cnt</th>\n",
              "      <th>CWE Flag Count</th>\n",
              "      <th>ECE Flag Cnt</th>\n",
              "      <th>Down/Up Ratio</th>\n",
              "      <th>Pkt Size Avg</th>\n",
              "      <th>Fwd Seg Size Avg</th>\n",
              "      <th>Bwd Seg Size Avg</th>\n",
              "      <th>Fwd Byts/b Avg</th>\n",
              "      <th>Fwd Pkts/b Avg</th>\n",
              "      <th>Fwd Blk Rate Avg</th>\n",
              "      <th>Bwd Byts/b Avg</th>\n",
              "      <th>Bwd Pkts/b Avg</th>\n",
              "      <th>Bwd Blk Rate Avg</th>\n",
              "      <th>Subflow Fwd Pkts</th>\n",
              "      <th>Subflow Fwd Byts</th>\n",
              "      <th>Subflow Bwd Pkts</th>\n",
              "      <th>Subflow Bwd Byts</th>\n",
              "      <th>Init Fwd Win Byts</th>\n",
              "      <th>Init Bwd Win Byts</th>\n",
              "      <th>Fwd Act Data Pkts</th>\n",
              "      <th>Fwd Seg Size Min</th>\n",
              "      <th>Active Mean</th>\n",
              "      <th>Active Std</th>\n",
              "      <th>Active Max</th>\n",
              "      <th>Active Min</th>\n",
              "      <th>Idle Mean</th>\n",
              "      <th>Idle Std</th>\n",
              "      <th>Idle Max</th>\n",
              "      <th>Idle Min</th>\n",
              "      <th>Label</th>\n",
              "    </tr>\n",
              "  </thead>\n",
              "  <tbody>\n",
              "    <tr>\n",
              "      <th>15381</th>\n",
              "      <td>192.168.10.32-66.102.1.188-56906-5228-6</td>\n",
              "      <td>192.168.10.32</td>\n",
              "      <td>56906</td>\n",
              "      <td>66.102.1.188</td>\n",
              "      <td>5228</td>\n",
              "      <td>6</td>\n",
              "      <td>21/04/2018 03:00:29 PM</td>\n",
              "      <td>90236635</td>\n",
              "      <td>3</td>\n",
              "      <td>3</td>\n",
              "      <td>0</td>\n",
              "      <td>0</td>\n",
              "      <td>0</td>\n",
              "      <td>0</td>\n",
              "      <td>0.00</td>\n",
              "      <td>0.000000</td>\n",
              "      <td>0</td>\n",
              "      <td>0</td>\n",
              "      <td>0.000000</td>\n",
              "      <td>0.000000</td>\n",
              "      <td>0.000000</td>\n",
              "      <td>0.066492</td>\n",
              "      <td>1.800000e+07</td>\n",
              "      <td>2.470000e+07</td>\n",
              "      <td>45100000.0</td>\n",
              "      <td>6967.0</td>\n",
              "      <td>90200000.0</td>\n",
              "      <td>45100000.00</td>\n",
              "      <td>5.078441e+03</td>\n",
              "      <td>45100000.0</td>\n",
              "      <td>45100000.0</td>\n",
              "      <td>90200000.0</td>\n",
              "      <td>45100000.0</td>\n",
              "      <td>5030.357641</td>\n",
              "      <td>45100000.0</td>\n",
              "      <td>45100000.0</td>\n",
              "      <td>0</td>\n",
              "      <td>0</td>\n",
              "      <td>0</td>\n",
              "      <td>0</td>\n",
              "      <td>...</td>\n",
              "      <td>0</td>\n",
              "      <td>0</td>\n",
              "      <td>0.000000</td>\n",
              "      <td>0.000000</td>\n",
              "      <td>0.000000</td>\n",
              "      <td>0</td>\n",
              "      <td>0</td>\n",
              "      <td>0</td>\n",
              "      <td>0</td>\n",
              "      <td>6</td>\n",
              "      <td>0</td>\n",
              "      <td>0</td>\n",
              "      <td>0</td>\n",
              "      <td>1</td>\n",
              "      <td>0.000000</td>\n",
              "      <td>0.00</td>\n",
              "      <td>0.000000</td>\n",
              "      <td>0</td>\n",
              "      <td>0</td>\n",
              "      <td>0</td>\n",
              "      <td>0</td>\n",
              "      <td>0</td>\n",
              "      <td>0</td>\n",
              "      <td>0</td>\n",
              "      <td>0</td>\n",
              "      <td>0</td>\n",
              "      <td>0</td>\n",
              "      <td>406</td>\n",
              "      <td>179</td>\n",
              "      <td>0</td>\n",
              "      <td>32</td>\n",
              "      <td>0</td>\n",
              "      <td>0</td>\n",
              "      <td>0</td>\n",
              "      <td>0</td>\n",
              "      <td>1.520000e+15</td>\n",
              "      <td>3.680000e+07</td>\n",
              "      <td>1.520000e+15</td>\n",
              "      <td>1.520000e+15</td>\n",
              "      <td>1</td>\n",
              "    </tr>\n",
              "    <tr>\n",
              "      <th>100378</th>\n",
              "      <td>192.168.10.32-64.233.184.188-59438-5228-6</td>\n",
              "      <td>192.168.10.32</td>\n",
              "      <td>59438</td>\n",
              "      <td>64.233.184.188</td>\n",
              "      <td>5228</td>\n",
              "      <td>6</td>\n",
              "      <td>25/04/2018 03:46:01 AM</td>\n",
              "      <td>90171579</td>\n",
              "      <td>4</td>\n",
              "      <td>3</td>\n",
              "      <td>25</td>\n",
              "      <td>25</td>\n",
              "      <td>25</td>\n",
              "      <td>0</td>\n",
              "      <td>6.25</td>\n",
              "      <td>12.500000</td>\n",
              "      <td>25</td>\n",
              "      <td>0</td>\n",
              "      <td>8.333333</td>\n",
              "      <td>14.433757</td>\n",
              "      <td>0.554498</td>\n",
              "      <td>0.077630</td>\n",
              "      <td>1.500000e+07</td>\n",
              "      <td>2.330000e+07</td>\n",
              "      <td>45100000.0</td>\n",
              "      <td>2674.0</td>\n",
              "      <td>90200000.0</td>\n",
              "      <td>30100000.00</td>\n",
              "      <td>2.600000e+07</td>\n",
              "      <td>45100000.0</td>\n",
              "      <td>10394.0</td>\n",
              "      <td>90200000.0</td>\n",
              "      <td>45100000.0</td>\n",
              "      <td>49133.314690</td>\n",
              "      <td>45100000.0</td>\n",
              "      <td>45000000.0</td>\n",
              "      <td>1</td>\n",
              "      <td>0</td>\n",
              "      <td>0</td>\n",
              "      <td>0</td>\n",
              "      <td>...</td>\n",
              "      <td>0</td>\n",
              "      <td>25</td>\n",
              "      <td>9.375000</td>\n",
              "      <td>12.938729</td>\n",
              "      <td>167.410714</td>\n",
              "      <td>0</td>\n",
              "      <td>0</td>\n",
              "      <td>0</td>\n",
              "      <td>2</td>\n",
              "      <td>7</td>\n",
              "      <td>0</td>\n",
              "      <td>0</td>\n",
              "      <td>0</td>\n",
              "      <td>0</td>\n",
              "      <td>10.714286</td>\n",
              "      <td>6.25</td>\n",
              "      <td>8.333333</td>\n",
              "      <td>0</td>\n",
              "      <td>0</td>\n",
              "      <td>0</td>\n",
              "      <td>0</td>\n",
              "      <td>0</td>\n",
              "      <td>0</td>\n",
              "      <td>0</td>\n",
              "      <td>3</td>\n",
              "      <td>0</td>\n",
              "      <td>3</td>\n",
              "      <td>406</td>\n",
              "      <td>175</td>\n",
              "      <td>0</td>\n",
              "      <td>32</td>\n",
              "      <td>0</td>\n",
              "      <td>0</td>\n",
              "      <td>0</td>\n",
              "      <td>0</td>\n",
              "      <td>1.520000e+15</td>\n",
              "      <td>3.770000e+07</td>\n",
              "      <td>1.520000e+15</td>\n",
              "      <td>1.520000e+15</td>\n",
              "      <td>1</td>\n",
              "    </tr>\n",
              "    <tr>\n",
              "      <th>109701</th>\n",
              "      <td>192.168.10.32-66.102.1.188-48589-5228-6</td>\n",
              "      <td>192.168.10.32</td>\n",
              "      <td>48589</td>\n",
              "      <td>66.102.1.188</td>\n",
              "      <td>5228</td>\n",
              "      <td>6</td>\n",
              "      <td>25/04/2018 10:56:18 PM</td>\n",
              "      <td>90244928</td>\n",
              "      <td>3</td>\n",
              "      <td>3</td>\n",
              "      <td>0</td>\n",
              "      <td>0</td>\n",
              "      <td>0</td>\n",
              "      <td>0</td>\n",
              "      <td>0.00</td>\n",
              "      <td>0.000000</td>\n",
              "      <td>0</td>\n",
              "      <td>0</td>\n",
              "      <td>0.000000</td>\n",
              "      <td>0.000000</td>\n",
              "      <td>0.000000</td>\n",
              "      <td>0.066486</td>\n",
              "      <td>1.800000e+07</td>\n",
              "      <td>2.470000e+07</td>\n",
              "      <td>45100000.0</td>\n",
              "      <td>6941.0</td>\n",
              "      <td>90200000.0</td>\n",
              "      <td>45100000.00</td>\n",
              "      <td>2.448711e+03</td>\n",
              "      <td>45100000.0</td>\n",
              "      <td>45100000.0</td>\n",
              "      <td>90200000.0</td>\n",
              "      <td>45100000.0</td>\n",
              "      <td>2441.639715</td>\n",
              "      <td>45100000.0</td>\n",
              "      <td>45100000.0</td>\n",
              "      <td>0</td>\n",
              "      <td>0</td>\n",
              "      <td>0</td>\n",
              "      <td>0</td>\n",
              "      <td>...</td>\n",
              "      <td>0</td>\n",
              "      <td>0</td>\n",
              "      <td>0.000000</td>\n",
              "      <td>0.000000</td>\n",
              "      <td>0.000000</td>\n",
              "      <td>0</td>\n",
              "      <td>0</td>\n",
              "      <td>0</td>\n",
              "      <td>0</td>\n",
              "      <td>6</td>\n",
              "      <td>0</td>\n",
              "      <td>0</td>\n",
              "      <td>0</td>\n",
              "      <td>1</td>\n",
              "      <td>0.000000</td>\n",
              "      <td>0.00</td>\n",
              "      <td>0.000000</td>\n",
              "      <td>0</td>\n",
              "      <td>0</td>\n",
              "      <td>0</td>\n",
              "      <td>0</td>\n",
              "      <td>0</td>\n",
              "      <td>0</td>\n",
              "      <td>0</td>\n",
              "      <td>0</td>\n",
              "      <td>0</td>\n",
              "      <td>0</td>\n",
              "      <td>539</td>\n",
              "      <td>179</td>\n",
              "      <td>0</td>\n",
              "      <td>32</td>\n",
              "      <td>0</td>\n",
              "      <td>0</td>\n",
              "      <td>0</td>\n",
              "      <td>0</td>\n",
              "      <td>1.520000e+15</td>\n",
              "      <td>3.680000e+07</td>\n",
              "      <td>1.520000e+15</td>\n",
              "      <td>1.520000e+15</td>\n",
              "      <td>1</td>\n",
              "    </tr>\n",
              "    <tr>\n",
              "      <th>22897</th>\n",
              "      <td>192.168.10.32-66.102.1.188-46800-5228-6</td>\n",
              "      <td>192.168.10.32</td>\n",
              "      <td>46800</td>\n",
              "      <td>66.102.1.188</td>\n",
              "      <td>5228</td>\n",
              "      <td>6</td>\n",
              "      <td>22/04/2018 10:17:30 AM</td>\n",
              "      <td>90178980</td>\n",
              "      <td>4</td>\n",
              "      <td>3</td>\n",
              "      <td>26</td>\n",
              "      <td>26</td>\n",
              "      <td>26</td>\n",
              "      <td>0</td>\n",
              "      <td>6.50</td>\n",
              "      <td>13.000000</td>\n",
              "      <td>26</td>\n",
              "      <td>0</td>\n",
              "      <td>8.666667</td>\n",
              "      <td>15.011107</td>\n",
              "      <td>0.576631</td>\n",
              "      <td>0.077623</td>\n",
              "      <td>1.500000e+07</td>\n",
              "      <td>2.330000e+07</td>\n",
              "      <td>45100000.0</td>\n",
              "      <td>5924.0</td>\n",
              "      <td>90200000.0</td>\n",
              "      <td>30100000.00</td>\n",
              "      <td>2.600000e+07</td>\n",
              "      <td>45100000.0</td>\n",
              "      <td>13197.0</td>\n",
              "      <td>90200000.0</td>\n",
              "      <td>45100000.0</td>\n",
              "      <td>43090.380140</td>\n",
              "      <td>45100000.0</td>\n",
              "      <td>45100000.0</td>\n",
              "      <td>1</td>\n",
              "      <td>0</td>\n",
              "      <td>0</td>\n",
              "      <td>0</td>\n",
              "      <td>...</td>\n",
              "      <td>0</td>\n",
              "      <td>26</td>\n",
              "      <td>9.750000</td>\n",
              "      <td>13.456278</td>\n",
              "      <td>181.071429</td>\n",
              "      <td>0</td>\n",
              "      <td>0</td>\n",
              "      <td>0</td>\n",
              "      <td>2</td>\n",
              "      <td>7</td>\n",
              "      <td>0</td>\n",
              "      <td>0</td>\n",
              "      <td>0</td>\n",
              "      <td>0</td>\n",
              "      <td>11.142857</td>\n",
              "      <td>6.50</td>\n",
              "      <td>8.666667</td>\n",
              "      <td>0</td>\n",
              "      <td>0</td>\n",
              "      <td>0</td>\n",
              "      <td>0</td>\n",
              "      <td>0</td>\n",
              "      <td>0</td>\n",
              "      <td>0</td>\n",
              "      <td>3</td>\n",
              "      <td>0</td>\n",
              "      <td>3</td>\n",
              "      <td>406</td>\n",
              "      <td>175</td>\n",
              "      <td>0</td>\n",
              "      <td>32</td>\n",
              "      <td>0</td>\n",
              "      <td>0</td>\n",
              "      <td>0</td>\n",
              "      <td>0</td>\n",
              "      <td>1.520000e+15</td>\n",
              "      <td>3.770000e+07</td>\n",
              "      <td>1.520000e+15</td>\n",
              "      <td>1.520000e+15</td>\n",
              "      <td>1</td>\n",
              "    </tr>\n",
              "    <tr>\n",
              "      <th>48972</th>\n",
              "      <td>192.168.10.32-216.58.201.238-46365-443-6</td>\n",
              "      <td>192.168.10.32</td>\n",
              "      <td>46365</td>\n",
              "      <td>216.58.201.238</td>\n",
              "      <td>443</td>\n",
              "      <td>6</td>\n",
              "      <td>25/04/2018 05:02:34 PM</td>\n",
              "      <td>2793</td>\n",
              "      <td>2</td>\n",
              "      <td>1</td>\n",
              "      <td>0</td>\n",
              "      <td>0</td>\n",
              "      <td>0</td>\n",
              "      <td>0</td>\n",
              "      <td>0.00</td>\n",
              "      <td>0.000000</td>\n",
              "      <td>0</td>\n",
              "      <td>0</td>\n",
              "      <td>0.000000</td>\n",
              "      <td>0.000000</td>\n",
              "      <td>0.000000</td>\n",
              "      <td>1074.113856</td>\n",
              "      <td>1.396500e+03</td>\n",
              "      <td>1.748675e+03</td>\n",
              "      <td>2633.0</td>\n",
              "      <td>160.0</td>\n",
              "      <td>160.0</td>\n",
              "      <td>160.00</td>\n",
              "      <td>0.000000e+00</td>\n",
              "      <td>160.0</td>\n",
              "      <td>160.0</td>\n",
              "      <td>0.0</td>\n",
              "      <td>0.0</td>\n",
              "      <td>0.000000</td>\n",
              "      <td>0.0</td>\n",
              "      <td>0.0</td>\n",
              "      <td>0</td>\n",
              "      <td>0</td>\n",
              "      <td>0</td>\n",
              "      <td>0</td>\n",
              "      <td>...</td>\n",
              "      <td>0</td>\n",
              "      <td>0</td>\n",
              "      <td>0.000000</td>\n",
              "      <td>0.000000</td>\n",
              "      <td>0.000000</td>\n",
              "      <td>1</td>\n",
              "      <td>0</td>\n",
              "      <td>0</td>\n",
              "      <td>0</td>\n",
              "      <td>3</td>\n",
              "      <td>0</td>\n",
              "      <td>0</td>\n",
              "      <td>0</td>\n",
              "      <td>0</td>\n",
              "      <td>0.000000</td>\n",
              "      <td>0.00</td>\n",
              "      <td>0.000000</td>\n",
              "      <td>0</td>\n",
              "      <td>0</td>\n",
              "      <td>0</td>\n",
              "      <td>0</td>\n",
              "      <td>0</td>\n",
              "      <td>0</td>\n",
              "      <td>0</td>\n",
              "      <td>0</td>\n",
              "      <td>0</td>\n",
              "      <td>0</td>\n",
              "      <td>279</td>\n",
              "      <td>179</td>\n",
              "      <td>0</td>\n",
              "      <td>32</td>\n",
              "      <td>0</td>\n",
              "      <td>0</td>\n",
              "      <td>0</td>\n",
              "      <td>0</td>\n",
              "      <td>1.520000e+15</td>\n",
              "      <td>0.000000e+00</td>\n",
              "      <td>1.520000e+15</td>\n",
              "      <td>1.520000e+15</td>\n",
              "      <td>1</td>\n",
              "    </tr>\n",
              "    <tr>\n",
              "      <th>...</th>\n",
              "      <td>...</td>\n",
              "      <td>...</td>\n",
              "      <td>...</td>\n",
              "      <td>...</td>\n",
              "      <td>...</td>\n",
              "      <td>...</td>\n",
              "      <td>...</td>\n",
              "      <td>...</td>\n",
              "      <td>...</td>\n",
              "      <td>...</td>\n",
              "      <td>...</td>\n",
              "      <td>...</td>\n",
              "      <td>...</td>\n",
              "      <td>...</td>\n",
              "      <td>...</td>\n",
              "      <td>...</td>\n",
              "      <td>...</td>\n",
              "      <td>...</td>\n",
              "      <td>...</td>\n",
              "      <td>...</td>\n",
              "      <td>...</td>\n",
              "      <td>...</td>\n",
              "      <td>...</td>\n",
              "      <td>...</td>\n",
              "      <td>...</td>\n",
              "      <td>...</td>\n",
              "      <td>...</td>\n",
              "      <td>...</td>\n",
              "      <td>...</td>\n",
              "      <td>...</td>\n",
              "      <td>...</td>\n",
              "      <td>...</td>\n",
              "      <td>...</td>\n",
              "      <td>...</td>\n",
              "      <td>...</td>\n",
              "      <td>...</td>\n",
              "      <td>...</td>\n",
              "      <td>...</td>\n",
              "      <td>...</td>\n",
              "      <td>...</td>\n",
              "      <td>...</td>\n",
              "      <td>...</td>\n",
              "      <td>...</td>\n",
              "      <td>...</td>\n",
              "      <td>...</td>\n",
              "      <td>...</td>\n",
              "      <td>...</td>\n",
              "      <td>...</td>\n",
              "      <td>...</td>\n",
              "      <td>...</td>\n",
              "      <td>...</td>\n",
              "      <td>...</td>\n",
              "      <td>...</td>\n",
              "      <td>...</td>\n",
              "      <td>...</td>\n",
              "      <td>...</td>\n",
              "      <td>...</td>\n",
              "      <td>...</td>\n",
              "      <td>...</td>\n",
              "      <td>...</td>\n",
              "      <td>...</td>\n",
              "      <td>...</td>\n",
              "      <td>...</td>\n",
              "      <td>...</td>\n",
              "      <td>...</td>\n",
              "      <td>...</td>\n",
              "      <td>...</td>\n",
              "      <td>...</td>\n",
              "      <td>...</td>\n",
              "      <td>...</td>\n",
              "      <td>...</td>\n",
              "      <td>...</td>\n",
              "      <td>...</td>\n",
              "      <td>...</td>\n",
              "      <td>...</td>\n",
              "      <td>...</td>\n",
              "      <td>...</td>\n",
              "      <td>...</td>\n",
              "      <td>...</td>\n",
              "      <td>...</td>\n",
              "      <td>...</td>\n",
              "    </tr>\n",
              "    <tr>\n",
              "      <th>79223</th>\n",
              "      <td>192.168.10.32-216.58.201.238-50335-80-6</td>\n",
              "      <td>192.168.10.32</td>\n",
              "      <td>50335</td>\n",
              "      <td>216.58.201.238</td>\n",
              "      <td>80</td>\n",
              "      <td>6</td>\n",
              "      <td>23/04/2018 08:13:34 AM</td>\n",
              "      <td>24883</td>\n",
              "      <td>5</td>\n",
              "      <td>3</td>\n",
              "      <td>71</td>\n",
              "      <td>83</td>\n",
              "      <td>71</td>\n",
              "      <td>0</td>\n",
              "      <td>14.20</td>\n",
              "      <td>31.752165</td>\n",
              "      <td>83</td>\n",
              "      <td>0</td>\n",
              "      <td>27.666667</td>\n",
              "      <td>47.920072</td>\n",
              "      <td>6188.964353</td>\n",
              "      <td>321.504642</td>\n",
              "      <td>3.554714e+03</td>\n",
              "      <td>4.796861e+03</td>\n",
              "      <td>13603.0</td>\n",
              "      <td>99.0</td>\n",
              "      <td>24883.0</td>\n",
              "      <td>6220.75</td>\n",
              "      <td>7.807310e+03</td>\n",
              "      <td>16403.0</td>\n",
              "      <td>99.0</td>\n",
              "      <td>16915.0</td>\n",
              "      <td>8457.5</td>\n",
              "      <td>11349.770940</td>\n",
              "      <td>16483.0</td>\n",
              "      <td>432.0</td>\n",
              "      <td>0</td>\n",
              "      <td>0</td>\n",
              "      <td>0</td>\n",
              "      <td>0</td>\n",
              "      <td>...</td>\n",
              "      <td>0</td>\n",
              "      <td>83</td>\n",
              "      <td>17.111111</td>\n",
              "      <td>34.086084</td>\n",
              "      <td>1161.861111</td>\n",
              "      <td>1</td>\n",
              "      <td>2</td>\n",
              "      <td>0</td>\n",
              "      <td>2</td>\n",
              "      <td>7</td>\n",
              "      <td>0</td>\n",
              "      <td>0</td>\n",
              "      <td>0</td>\n",
              "      <td>0</td>\n",
              "      <td>19.250000</td>\n",
              "      <td>14.20</td>\n",
              "      <td>27.666667</td>\n",
              "      <td>0</td>\n",
              "      <td>0</td>\n",
              "      <td>0</td>\n",
              "      <td>0</td>\n",
              "      <td>0</td>\n",
              "      <td>0</td>\n",
              "      <td>0</td>\n",
              "      <td>8</td>\n",
              "      <td>0</td>\n",
              "      <td>10</td>\n",
              "      <td>14600</td>\n",
              "      <td>166</td>\n",
              "      <td>1</td>\n",
              "      <td>32</td>\n",
              "      <td>0</td>\n",
              "      <td>0</td>\n",
              "      <td>0</td>\n",
              "      <td>0</td>\n",
              "      <td>1.520000e+15</td>\n",
              "      <td>8.004457e+03</td>\n",
              "      <td>1.520000e+15</td>\n",
              "      <td>1.520000e+15</td>\n",
              "      <td>1</td>\n",
              "    </tr>\n",
              "    <tr>\n",
              "      <th>12973</th>\n",
              "      <td>192.168.10.32-66.102.1.188-56902-5228-6</td>\n",
              "      <td>192.168.10.32</td>\n",
              "      <td>56902</td>\n",
              "      <td>66.102.1.188</td>\n",
              "      <td>5228</td>\n",
              "      <td>6</td>\n",
              "      <td>21/04/2018 08:32:44 AM</td>\n",
              "      <td>90135127</td>\n",
              "      <td>4</td>\n",
              "      <td>3</td>\n",
              "      <td>26</td>\n",
              "      <td>26</td>\n",
              "      <td>26</td>\n",
              "      <td>0</td>\n",
              "      <td>6.50</td>\n",
              "      <td>13.000000</td>\n",
              "      <td>26</td>\n",
              "      <td>0</td>\n",
              "      <td>8.666667</td>\n",
              "      <td>15.011107</td>\n",
              "      <td>0.576912</td>\n",
              "      <td>0.077661</td>\n",
              "      <td>1.500000e+07</td>\n",
              "      <td>2.330000e+07</td>\n",
              "      <td>45100000.0</td>\n",
              "      <td>883.0</td>\n",
              "      <td>90100000.0</td>\n",
              "      <td>30000000.00</td>\n",
              "      <td>2.600000e+07</td>\n",
              "      <td>45100000.0</td>\n",
              "      <td>8452.0</td>\n",
              "      <td>90100000.0</td>\n",
              "      <td>45100000.0</td>\n",
              "      <td>77162.320390</td>\n",
              "      <td>45100000.0</td>\n",
              "      <td>45000000.0</td>\n",
              "      <td>1</td>\n",
              "      <td>0</td>\n",
              "      <td>0</td>\n",
              "      <td>0</td>\n",
              "      <td>...</td>\n",
              "      <td>0</td>\n",
              "      <td>26</td>\n",
              "      <td>9.750000</td>\n",
              "      <td>13.456278</td>\n",
              "      <td>181.071429</td>\n",
              "      <td>0</td>\n",
              "      <td>0</td>\n",
              "      <td>0</td>\n",
              "      <td>2</td>\n",
              "      <td>7</td>\n",
              "      <td>0</td>\n",
              "      <td>0</td>\n",
              "      <td>0</td>\n",
              "      <td>0</td>\n",
              "      <td>11.142857</td>\n",
              "      <td>6.50</td>\n",
              "      <td>8.666667</td>\n",
              "      <td>0</td>\n",
              "      <td>0</td>\n",
              "      <td>0</td>\n",
              "      <td>0</td>\n",
              "      <td>0</td>\n",
              "      <td>0</td>\n",
              "      <td>0</td>\n",
              "      <td>3</td>\n",
              "      <td>0</td>\n",
              "      <td>3</td>\n",
              "      <td>406</td>\n",
              "      <td>175</td>\n",
              "      <td>0</td>\n",
              "      <td>32</td>\n",
              "      <td>0</td>\n",
              "      <td>0</td>\n",
              "      <td>0</td>\n",
              "      <td>0</td>\n",
              "      <td>1.520000e+15</td>\n",
              "      <td>3.770000e+07</td>\n",
              "      <td>1.520000e+15</td>\n",
              "      <td>1.520000e+15</td>\n",
              "      <td>1</td>\n",
              "    </tr>\n",
              "    <tr>\n",
              "      <th>27747</th>\n",
              "      <td>172.217.18.206-192.168.10.32-80-49834-6</td>\n",
              "      <td>172.217.18.206</td>\n",
              "      <td>80</td>\n",
              "      <td>192.168.10.32</td>\n",
              "      <td>49834</td>\n",
              "      <td>6</td>\n",
              "      <td>24/04/2018 03:13:53 PM</td>\n",
              "      <td>961</td>\n",
              "      <td>1</td>\n",
              "      <td>1</td>\n",
              "      <td>0</td>\n",
              "      <td>0</td>\n",
              "      <td>0</td>\n",
              "      <td>0</td>\n",
              "      <td>0.00</td>\n",
              "      <td>0.000000</td>\n",
              "      <td>0</td>\n",
              "      <td>0</td>\n",
              "      <td>0.000000</td>\n",
              "      <td>0.000000</td>\n",
              "      <td>0.000000</td>\n",
              "      <td>2081.165453</td>\n",
              "      <td>9.610000e+02</td>\n",
              "      <td>0.000000e+00</td>\n",
              "      <td>961.0</td>\n",
              "      <td>961.0</td>\n",
              "      <td>0.0</td>\n",
              "      <td>0.00</td>\n",
              "      <td>0.000000e+00</td>\n",
              "      <td>0.0</td>\n",
              "      <td>0.0</td>\n",
              "      <td>0.0</td>\n",
              "      <td>0.0</td>\n",
              "      <td>0.000000</td>\n",
              "      <td>0.0</td>\n",
              "      <td>0.0</td>\n",
              "      <td>0</td>\n",
              "      <td>0</td>\n",
              "      <td>0</td>\n",
              "      <td>0</td>\n",
              "      <td>...</td>\n",
              "      <td>0</td>\n",
              "      <td>0</td>\n",
              "      <td>0.000000</td>\n",
              "      <td>0.000000</td>\n",
              "      <td>0.000000</td>\n",
              "      <td>1</td>\n",
              "      <td>0</td>\n",
              "      <td>0</td>\n",
              "      <td>0</td>\n",
              "      <td>2</td>\n",
              "      <td>0</td>\n",
              "      <td>0</td>\n",
              "      <td>0</td>\n",
              "      <td>1</td>\n",
              "      <td>0.000000</td>\n",
              "      <td>0.00</td>\n",
              "      <td>0.000000</td>\n",
              "      <td>0</td>\n",
              "      <td>0</td>\n",
              "      <td>0</td>\n",
              "      <td>0</td>\n",
              "      <td>0</td>\n",
              "      <td>0</td>\n",
              "      <td>0</td>\n",
              "      <td>0</td>\n",
              "      <td>0</td>\n",
              "      <td>0</td>\n",
              "      <td>166</td>\n",
              "      <td>229</td>\n",
              "      <td>0</td>\n",
              "      <td>32</td>\n",
              "      <td>0</td>\n",
              "      <td>0</td>\n",
              "      <td>0</td>\n",
              "      <td>0</td>\n",
              "      <td>0.000000e+00</td>\n",
              "      <td>0.000000e+00</td>\n",
              "      <td>0.000000e+00</td>\n",
              "      <td>0.000000e+00</td>\n",
              "      <td>1</td>\n",
              "    </tr>\n",
              "    <tr>\n",
              "      <th>116738</th>\n",
              "      <td>192.168.10.32-216.58.201.238-52089-80-6</td>\n",
              "      <td>192.168.10.32</td>\n",
              "      <td>52089</td>\n",
              "      <td>216.58.201.238</td>\n",
              "      <td>80</td>\n",
              "      <td>6</td>\n",
              "      <td>26/04/2018 01:03:31 PM</td>\n",
              "      <td>8371</td>\n",
              "      <td>5</td>\n",
              "      <td>3</td>\n",
              "      <td>71</td>\n",
              "      <td>83</td>\n",
              "      <td>71</td>\n",
              "      <td>0</td>\n",
              "      <td>14.20</td>\n",
              "      <td>31.752165</td>\n",
              "      <td>83</td>\n",
              "      <td>0</td>\n",
              "      <td>27.666667</td>\n",
              "      <td>47.920072</td>\n",
              "      <td>18396.846250</td>\n",
              "      <td>955.680325</td>\n",
              "      <td>1.195857e+03</td>\n",
              "      <td>1.073494e+03</td>\n",
              "      <td>2769.0</td>\n",
              "      <td>133.0</td>\n",
              "      <td>8371.0</td>\n",
              "      <td>2092.75</td>\n",
              "      <td>2.048981e+03</td>\n",
              "      <td>4050.0</td>\n",
              "      <td>133.0</td>\n",
              "      <td>4352.0</td>\n",
              "      <td>2176.0</td>\n",
              "      <td>2179.303100</td>\n",
              "      <td>3717.0</td>\n",
              "      <td>635.0</td>\n",
              "      <td>0</td>\n",
              "      <td>0</td>\n",
              "      <td>0</td>\n",
              "      <td>0</td>\n",
              "      <td>...</td>\n",
              "      <td>0</td>\n",
              "      <td>83</td>\n",
              "      <td>17.111111</td>\n",
              "      <td>34.086084</td>\n",
              "      <td>1161.861111</td>\n",
              "      <td>1</td>\n",
              "      <td>2</td>\n",
              "      <td>0</td>\n",
              "      <td>2</td>\n",
              "      <td>7</td>\n",
              "      <td>0</td>\n",
              "      <td>0</td>\n",
              "      <td>0</td>\n",
              "      <td>0</td>\n",
              "      <td>19.250000</td>\n",
              "      <td>14.20</td>\n",
              "      <td>27.666667</td>\n",
              "      <td>0</td>\n",
              "      <td>0</td>\n",
              "      <td>0</td>\n",
              "      <td>0</td>\n",
              "      <td>0</td>\n",
              "      <td>0</td>\n",
              "      <td>0</td>\n",
              "      <td>8</td>\n",
              "      <td>0</td>\n",
              "      <td>10</td>\n",
              "      <td>14600</td>\n",
              "      <td>166</td>\n",
              "      <td>1</td>\n",
              "      <td>32</td>\n",
              "      <td>0</td>\n",
              "      <td>0</td>\n",
              "      <td>0</td>\n",
              "      <td>0</td>\n",
              "      <td>1.520000e+15</td>\n",
              "      <td>2.561454e+03</td>\n",
              "      <td>1.520000e+15</td>\n",
              "      <td>1.520000e+15</td>\n",
              "      <td>1</td>\n",
              "    </tr>\n",
              "    <tr>\n",
              "      <th>11792</th>\n",
              "      <td>192.168.10.32-66.102.1.188-56906-5228-6</td>\n",
              "      <td>192.168.10.32</td>\n",
              "      <td>56906</td>\n",
              "      <td>66.102.1.188</td>\n",
              "      <td>5228</td>\n",
              "      <td>6</td>\n",
              "      <td>21/04/2018 05:08:43 AM</td>\n",
              "      <td>90241866</td>\n",
              "      <td>3</td>\n",
              "      <td>3</td>\n",
              "      <td>0</td>\n",
              "      <td>0</td>\n",
              "      <td>0</td>\n",
              "      <td>0</td>\n",
              "      <td>0.00</td>\n",
              "      <td>0.000000</td>\n",
              "      <td>0</td>\n",
              "      <td>0</td>\n",
              "      <td>0.000000</td>\n",
              "      <td>0.000000</td>\n",
              "      <td>0.000000</td>\n",
              "      <td>0.066488</td>\n",
              "      <td>1.800000e+07</td>\n",
              "      <td>2.470000e+07</td>\n",
              "      <td>45100000.0</td>\n",
              "      <td>6884.0</td>\n",
              "      <td>90200000.0</td>\n",
              "      <td>45100000.00</td>\n",
              "      <td>1.609375e+03</td>\n",
              "      <td>45100000.0</td>\n",
              "      <td>45100000.0</td>\n",
              "      <td>90200000.0</td>\n",
              "      <td>45100000.0</td>\n",
              "      <td>1605.132393</td>\n",
              "      <td>45100000.0</td>\n",
              "      <td>45100000.0</td>\n",
              "      <td>0</td>\n",
              "      <td>0</td>\n",
              "      <td>0</td>\n",
              "      <td>0</td>\n",
              "      <td>...</td>\n",
              "      <td>0</td>\n",
              "      <td>0</td>\n",
              "      <td>0.000000</td>\n",
              "      <td>0.000000</td>\n",
              "      <td>0.000000</td>\n",
              "      <td>0</td>\n",
              "      <td>0</td>\n",
              "      <td>0</td>\n",
              "      <td>0</td>\n",
              "      <td>6</td>\n",
              "      <td>0</td>\n",
              "      <td>0</td>\n",
              "      <td>0</td>\n",
              "      <td>1</td>\n",
              "      <td>0.000000</td>\n",
              "      <td>0.00</td>\n",
              "      <td>0.000000</td>\n",
              "      <td>0</td>\n",
              "      <td>0</td>\n",
              "      <td>0</td>\n",
              "      <td>0</td>\n",
              "      <td>0</td>\n",
              "      <td>0</td>\n",
              "      <td>0</td>\n",
              "      <td>0</td>\n",
              "      <td>0</td>\n",
              "      <td>0</td>\n",
              "      <td>406</td>\n",
              "      <td>179</td>\n",
              "      <td>0</td>\n",
              "      <td>32</td>\n",
              "      <td>0</td>\n",
              "      <td>0</td>\n",
              "      <td>0</td>\n",
              "      <td>0</td>\n",
              "      <td>1.520000e+15</td>\n",
              "      <td>3.680000e+07</td>\n",
              "      <td>1.520000e+15</td>\n",
              "      <td>1.520000e+15</td>\n",
              "      <td>1</td>\n",
              "    </tr>\n",
              "  </tbody>\n",
              "</table>\n",
              "<p>38608 rows × 84 columns</p>\n",
              "</div>"
            ],
            "text/plain": [
              "                                          Flow ID  ... Label\n",
              "15381     192.168.10.32-66.102.1.188-56906-5228-6  ...     1\n",
              "100378  192.168.10.32-64.233.184.188-59438-5228-6  ...     1\n",
              "109701    192.168.10.32-66.102.1.188-48589-5228-6  ...     1\n",
              "22897     192.168.10.32-66.102.1.188-46800-5228-6  ...     1\n",
              "48972    192.168.10.32-216.58.201.238-46365-443-6  ...     1\n",
              "...                                           ...  ...   ...\n",
              "79223     192.168.10.32-216.58.201.238-50335-80-6  ...     1\n",
              "12973     192.168.10.32-66.102.1.188-56902-5228-6  ...     1\n",
              "27747     172.217.18.206-192.168.10.32-80-49834-6  ...     1\n",
              "116738    192.168.10.32-216.58.201.238-52089-80-6  ...     1\n",
              "11792     192.168.10.32-66.102.1.188-56906-5228-6  ...     1\n",
              "\n",
              "[38608 rows x 84 columns]"
            ]
          },
          "metadata": {
            "tags": []
          },
          "execution_count": 57
        }
      ]
    },
    {
      "cell_type": "code",
      "metadata": {
        "id": "jiBrFonDevqO"
      },
      "source": [
        "targethome=targethome[0:targethome.shape[0]//10]"
      ],
      "execution_count": 58,
      "outputs": []
    },
    {
      "cell_type": "code",
      "metadata": {
        "colab": {
          "base_uri": "https://localhost:8080/"
        },
        "id": "VJnHYoASftR5",
        "outputId": "f544c7a5-14bf-44e5-c0fe-bb51fdebe9fb"
      },
      "source": [
        "print(sourcehome.shape)\r\n",
        "print(sourceother.shape)\r\n",
        "print(targethome.shape)"
      ],
      "execution_count": 59,
      "outputs": [
        {
          "output_type": "stream",
          "text": [
            "(10110, 84)\n",
            "(16242, 84)\n",
            "(3860, 84)\n"
          ],
          "name": "stdout"
        }
      ]
    },
    {
      "cell_type": "code",
      "metadata": {
        "colab": {
          "base_uri": "https://localhost:8080/"
        },
        "id": "dVPEAxzWf2z3",
        "outputId": "a02471b0-509c-415e-ce42-b1d06bcd2979"
      },
      "source": [
        "sourcedata=sourcehome.append(sourceother)\r\n",
        "targetdata=targethome.append(sourceother)\r\n",
        "print(sourcedata.shape)\r\n",
        "print(targetdata.shape)"
      ],
      "execution_count": 60,
      "outputs": [
        {
          "output_type": "stream",
          "text": [
            "(26352, 84)\n",
            "(20102, 84)\n"
          ],
          "name": "stdout"
        }
      ]
    },
    {
      "cell_type": "code",
      "metadata": {
        "id": "5f6j3AA5gTZS"
      },
      "source": [
        "sourcedata[\"Flow Duration\"] = np.log((sourcedata[\"Flow Duration\"] + 0.1).astype(float)) "
      ],
      "execution_count": 61,
      "outputs": []
    },
    {
      "cell_type": "code",
      "metadata": {
        "colab": {
          "base_uri": "https://localhost:8080/"
        },
        "id": "GJNEqTbFgbpk",
        "outputId": "3a4209c4-1c94-41a7-a124-e7a2e654f72e"
      },
      "source": [
        "sourcedata.drop(['Flow ID','Dst IP','Src IP','Timestamp','Dst Port','Src Port','Protocol'], axis=1, inplace=True)\r\n",
        "##Verify that the dimension has dropped by 1 and therefore label has been removed\r\n",
        "sourcedata.shape"
      ],
      "execution_count": 62,
      "outputs": [
        {
          "output_type": "execute_result",
          "data": {
            "text/plain": [
              "(26352, 77)"
            ]
          },
          "metadata": {
            "tags": []
          },
          "execution_count": 62
        }
      ]
    },
    {
      "cell_type": "code",
      "metadata": {
        "id": "D2DnM32Rgg6f"
      },
      "source": [
        "targetdata[\"Flow Duration\"] = np.log((targetdata[\"Flow Duration\"] + 0.1).astype(float))"
      ],
      "execution_count": 63,
      "outputs": []
    },
    {
      "cell_type": "code",
      "metadata": {
        "colab": {
          "base_uri": "https://localhost:8080/"
        },
        "id": "O_vFU_CwgmYH",
        "outputId": "744f33c4-e694-4c27-c760-079226b1a41e"
      },
      "source": [
        "targetdata.drop(['Flow ID','Dst IP','Src IP','Timestamp','Dst Port','Src Port','Protocol'], axis=1, inplace=True)\r\n",
        "##Verify that the dimension has dropped by 1 and therefore label has been removed\r\n",
        "print(targetdata.shape)"
      ],
      "execution_count": 64,
      "outputs": [
        {
          "output_type": "stream",
          "text": [
            "(20102, 77)\n"
          ],
          "name": "stdout"
        }
      ]
    },
    {
      "cell_type": "code",
      "metadata": {
        "id": "HWG1a6f8gxif"
      },
      "source": [
        "X = sourcedata.drop(['Label'], axis=1)\r\n",
        "Xnew = targetdata.drop(['Label'], axis=1)"
      ],
      "execution_count": 136,
      "outputs": []
    },
    {
      "cell_type": "code",
      "metadata": {
        "colab": {
          "base_uri": "https://localhost:8080/"
        },
        "id": "PfzjxAhxnsPO",
        "outputId": "168ef10f-88b6-4127-e693-27528423714e"
      },
      "source": [
        "type(X)"
      ],
      "execution_count": 96,
      "outputs": [
        {
          "output_type": "execute_result",
          "data": {
            "text/plain": [
              "pandas.core.frame.DataFrame"
            ]
          },
          "metadata": {
            "tags": []
          },
          "execution_count": 96
        }
      ]
    },
    {
      "cell_type": "code",
      "metadata": {
        "id": "HBfWWzt_nsW9"
      },
      "source": [
        "y = sourcedata['Label']\r\n",
        "ynew = targetdata['Label']"
      ],
      "execution_count": 137,
      "outputs": []
    },
    {
      "cell_type": "code",
      "metadata": {
        "id": "5PqCfMKjn8u2"
      },
      "source": [
        "y = pd.DataFrame(y)\r\n",
        "ynew = pd.DataFrame(ynew)"
      ],
      "execution_count": 138,
      "outputs": []
    },
    {
      "cell_type": "code",
      "metadata": {
        "colab": {
          "base_uri": "https://localhost:8080/"
        },
        "id": "lqYL3UfZoSZ4",
        "outputId": "b5c075a6-09fd-4b7c-d98a-efa7b0531678"
      },
      "source": [
        "type(y)"
      ],
      "execution_count": 101,
      "outputs": [
        {
          "output_type": "execute_result",
          "data": {
            "text/plain": [
              "pandas.core.frame.DataFrame"
            ]
          },
          "metadata": {
            "tags": []
          },
          "execution_count": 101
        }
      ]
    },
    {
      "cell_type": "code",
      "metadata": {
        "id": "KAnr8b7kh9BP"
      },
      "source": [
        "X, y = shuffle(X, y)"
      ],
      "execution_count": 102,
      "outputs": []
    },
    {
      "cell_type": "code",
      "metadata": {
        "id": "yvtcUm6-jdGQ"
      },
      "source": [
        "X_train, X_test, y_train, y_test = train_test_split(X, y, test_size=0.5)"
      ],
      "execution_count": 103,
      "outputs": []
    },
    {
      "cell_type": "code",
      "metadata": {
        "colab": {
          "base_uri": "https://localhost:8080/"
        },
        "id": "WlKQ--IXnQzz",
        "outputId": "a0747473-169b-48e2-80d8-7263573dc781"
      },
      "source": [
        "type(y_train)"
      ],
      "execution_count": 94,
      "outputs": [
        {
          "output_type": "execute_result",
          "data": {
            "text/plain": [
              "pandas.core.series.Series"
            ]
          },
          "metadata": {
            "tags": []
          },
          "execution_count": 94
        }
      ]
    },
    {
      "cell_type": "code",
      "metadata": {
        "colab": {
          "base_uri": "https://localhost:8080/"
        },
        "id": "BmcMhknRjgjv",
        "outputId": "69da9449-d17a-4f36-ef2f-7f2884e9922a"
      },
      "source": [
        "scaler = MinMaxScaler()\r\n",
        "scaler.fit(X_train)\r\n",
        "\r\n",
        "X_train = scaler.transform(X_train)\r\n",
        "X_test = scaler.transform(X_test)\r\n",
        "\r\n",
        "print('X_train scaled\\n', X_train[0:6, 2] )"
      ],
      "execution_count": 105,
      "outputs": [
        {
          "output_type": "stream",
          "text": [
            "X_train scaled\n",
            " [0.00027382 0.00164294 0.00191676 0.01341731 0.00684556 0.00136911]\n"
          ],
          "name": "stdout"
        }
      ]
    },
    {
      "cell_type": "code",
      "metadata": {
        "id": "ms7hLNnIjil_"
      },
      "source": [
        "# To know more: \r\n",
        "#       https://machinelearningmastery.com/reproducible-results-neural-networks-keras/\r\n",
        "np.random.seed(6)\r\n",
        "tf.random.set_seed(4)"
      ],
      "execution_count": 106,
      "outputs": []
    },
    {
      "cell_type": "code",
      "metadata": {
        "colab": {
          "base_uri": "https://localhost:8080/"
        },
        "id": "PPdEw5wckLBY",
        "outputId": "15fd7460-73d0-463c-d4da-7e034ed4c8db"
      },
      "source": [
        "sample_size = X_train.shape[1]\r\n",
        "print('The sample size is ', sample_size, \r\n",
        "      ', which should correspond to the number of features')"
      ],
      "execution_count": 107,
      "outputs": [
        {
          "output_type": "stream",
          "text": [
            "The sample size is  76 , which should correspond to the number of features\n"
          ],
          "name": "stdout"
        }
      ]
    },
    {
      "cell_type": "code",
      "metadata": {
        "id": "Ge4lXPTfkN0G"
      },
      "source": [
        "learn_rate = 0.01"
      ],
      "execution_count": 108,
      "outputs": []
    },
    {
      "cell_type": "code",
      "metadata": {
        "id": "-l0dRmuMkZQv"
      },
      "source": [
        "def build_model():\r\n",
        "  model = Sequential([\r\n",
        "    Dense(200, input_dim=sample_size, activation='relu' ),\r\n",
        "    Dense(50, activation='relu' ),\r\n",
        "    Dense(30, activation='relu' ),\r\n",
        "    Dense(15, activation='relu' ),\r\n",
        "    Dense(8, activation='relu' ),\r\n",
        "    Dense(1, activation=\"sigmoid\")\r\n",
        "  ])\r\n",
        "\r\n",
        "\r\n",
        "\r\n",
        "  model.compile(loss=\"binary_crossentropy\", \r\n",
        "              optimizer=keras.optimizers.SGD(lr=learn_rate) ,\r\n",
        "              metrics=['accuracy'])\r\n",
        "\r\n",
        "  return model"
      ],
      "execution_count": 110,
      "outputs": []
    },
    {
      "cell_type": "code",
      "metadata": {
        "colab": {
          "base_uri": "https://localhost:8080/",
          "height": 1000
        },
        "id": "07BrD49ZkcOX",
        "outputId": "321546b1-283a-4edf-8d8a-ccbde83f1f3d"
      },
      "source": [
        "model = build_model()\r\n",
        "model.summary()\r\n",
        "plot_model(model)"
      ],
      "execution_count": 111,
      "outputs": [
        {
          "output_type": "stream",
          "text": [
            "Model: \"sequential_1\"\n",
            "_________________________________________________________________\n",
            "Layer (type)                 Output Shape              Param #   \n",
            "=================================================================\n",
            "dense_11 (Dense)             (None, 200)               15400     \n",
            "_________________________________________________________________\n",
            "dense_12 (Dense)             (None, 50)                10050     \n",
            "_________________________________________________________________\n",
            "dense_13 (Dense)             (None, 30)                1530      \n",
            "_________________________________________________________________\n",
            "dense_14 (Dense)             (None, 15)                465       \n",
            "_________________________________________________________________\n",
            "dense_15 (Dense)             (None, 8)                 128       \n",
            "_________________________________________________________________\n",
            "dense_16 (Dense)             (None, 1)                 9         \n",
            "=================================================================\n",
            "Total params: 27,582\n",
            "Trainable params: 27,582\n",
            "Non-trainable params: 0\n",
            "_________________________________________________________________\n"
          ],
          "name": "stdout"
        },
        {
          "output_type": "execute_result",
          "data": {
            "image/png": "[encoded data removed]",
            "text/plain": [
              "<IPython.core.display.Image object>"
            ]
          },
          "metadata": {
            "tags": []
          },
          "execution_count": 111
        }
      ]
    },
    {
      "cell_type": "code",
      "metadata": {
        "colab": {
          "base_uri": "https://localhost:8080/"
        },
        "id": "grtGaIn-kzXH",
        "outputId": "e9d2d539-01f4-43f9-ef04-482b9062bcc5"
      },
      "source": [
        "history = model.fit(X_train, y_train, epochs=10, validation_split=0.2)"
      ],
      "execution_count": 112,
      "outputs": [
        {
          "output_type": "stream",
          "text": [
            "Epoch 1/10\n",
            "330/330 [==============================] - 2s 3ms/step - loss: 0.6759 - accuracy: 0.5976 - val_loss: 0.6534 - val_accuracy: 0.5967\n",
            "Epoch 2/10\n",
            "330/330 [==============================] - 1s 2ms/step - loss: 0.6363 - accuracy: 0.6222 - val_loss: 0.5974 - val_accuracy: 0.6259\n",
            "Epoch 3/10\n",
            "330/330 [==============================] - 1s 2ms/step - loss: 0.5673 - accuracy: 0.7318 - val_loss: 0.4783 - val_accuracy: 0.7986\n",
            "Epoch 4/10\n",
            "330/330 [==============================] - 1s 2ms/step - loss: 0.4622 - accuracy: 0.7928 - val_loss: 0.4075 - val_accuracy: 0.8005\n",
            "Epoch 5/10\n",
            "330/330 [==============================] - 1s 2ms/step - loss: 0.4115 - accuracy: 0.7955 - val_loss: 0.3761 - val_accuracy: 0.8137\n",
            "Epoch 6/10\n",
            "330/330 [==============================] - 1s 2ms/step - loss: 0.3660 - accuracy: 0.8221 - val_loss: 0.3622 - val_accuracy: 0.8407\n",
            "Epoch 7/10\n",
            "330/330 [==============================] - 1s 2ms/step - loss: 0.3655 - accuracy: 0.8268 - val_loss: 0.3652 - val_accuracy: 0.8392\n",
            "Epoch 8/10\n",
            "330/330 [==============================] - 1s 2ms/step - loss: 0.3630 - accuracy: 0.8258 - val_loss: 0.3793 - val_accuracy: 0.8122\n",
            "Epoch 9/10\n",
            "330/330 [==============================] - 1s 2ms/step - loss: 0.3558 - accuracy: 0.8316 - val_loss: 0.3582 - val_accuracy: 0.8392\n",
            "Epoch 10/10\n",
            "330/330 [==============================] - 1s 2ms/step - loss: 0.3490 - accuracy: 0.8341 - val_loss: 0.3577 - val_accuracy: 0.8399\n"
          ],
          "name": "stdout"
        }
      ]
    },
    {
      "cell_type": "code",
      "metadata": {
        "id": "_BPJ8Dv6lBz-"
      },
      "source": [
        "def train_model(nn_file, X_tr, y_tr, epochs, overwrite=False):\r\n",
        "  \"\"\"\r\n",
        "  nn_file:  Before training, the model contained in this file will be loaded\r\n",
        "            After training, the resulting model will be written in this file\r\n",
        "\r\n",
        "  \r\n",
        "  overwrite: If true, the model will be built and trained from scratch\r\n",
        "  \"\"\"\r\n",
        "  \r\n",
        "  ##################\r\n",
        "  #### CALLBACKS ###\r\n",
        "  ##################\r\n",
        "  # These functions are called at every epoch\r\n",
        "  plot_cb = PlotLossesKerasTF()  # Plots the loss\r\n",
        "  checkpoint_cb = ModelCheckpoint(nn_file) # Stores weights\r\n",
        "  logger_cb = CSVLogger(nn_file+'.csv', append=True) # Stores history\r\n",
        "                # see https://theailearner.com/2019/07/23/keras-callbacks-csvlogger/\r\n",
        "\r\n",
        "\r\n",
        "\r\n",
        "  if overwrite==True:\r\n",
        "    os.remove(nn_file)\r\n",
        "    os.remove(nn_file+'.csv')\r\n",
        "\r\n",
        "\r\n",
        "  if not isfile(nn_file):\r\n",
        "    model = build_model()\r\n",
        "  else:\r\n",
        "    model = load_model(nn_file)\r\n",
        "\r\n",
        "  history = model.fit(X_tr, y_tr, epochs=epochs, \r\n",
        "                      callbacks = [plot_cb, checkpoint_cb, logger_cb], \r\n",
        "                      validation_split=0.2 )\r\n",
        "\r\n",
        "  return model"
      ],
      "execution_count": 113,
      "outputs": []
    },
    {
      "cell_type": "code",
      "metadata": {
        "colab": {
          "base_uri": "https://localhost:8080/",
          "height": 687
        },
        "id": "KC84i2meo3n7",
        "outputId": "5dca0d70-5fef-49bd-8e13-8aa78ca759be"
      },
      "source": [
        "nn_file = my_path + 'nn1.h5'\r\n",
        "\r\n",
        "model = train_model(nn_file, X_train, y_train, epochs=20)"
      ],
      "execution_count": 114,
      "outputs": [
        {
          "output_type": "display_data",
          "data": {
            "image/png": "[encoded data removed]",
            "text/plain": [
              "<Figure size 864x576 with 2 Axes>"
            ]
          },
          "metadata": {
            "tags": [],
            "needs_background": "light"
          }
        },
        {
          "output_type": "stream",
          "text": [
            "accuracy\n",
            "\ttraining         \t (min:    0.617, max:    0.836, cur:    0.834)\n",
            "\tvalidation       \t (min:    0.597, max:    0.842, cur:    0.840)\n",
            "Loss\n",
            "\ttraining         \t (min:    0.338, max:    0.650, cur:    0.338)\n",
            "\tvalidation       \t (min:    0.339, max:    0.627, cur:    0.339)\n"
          ],
          "name": "stdout"
        }
      ]
    },
    {
      "cell_type": "code",
      "metadata": {
        "colab": {
          "base_uri": "https://localhost:8080/",
          "height": 204
        },
        "id": "NRlTwlv2o-oP",
        "outputId": "c50911f1-f3ba-4601-a1c3-14a0bdc95cbc"
      },
      "source": [
        "pd.read_csv(nn_file+'.csv').head()"
      ],
      "execution_count": 115,
      "outputs": [
        {
          "output_type": "execute_result",
          "data": {
            "text/html": [
              "<div>\n",
              "<style scoped>\n",
              "    .dataframe tbody tr th:only-of-type {\n",
              "        vertical-align: middle;\n",
              "    }\n",
              "\n",
              "    .dataframe tbody tr th {\n",
              "        vertical-align: top;\n",
              "    }\n",
              "\n",
              "    .dataframe thead th {\n",
              "        text-align: right;\n",
              "    }\n",
              "</style>\n",
              "<table border=\"1\" class=\"dataframe\">\n",
              "  <thead>\n",
              "    <tr style=\"text-align: right;\">\n",
              "      <th></th>\n",
              "      <th>epoch</th>\n",
              "      <th>accuracy</th>\n",
              "      <th>loss</th>\n",
              "      <th>val_accuracy</th>\n",
              "      <th>val_loss</th>\n",
              "    </tr>\n",
              "  </thead>\n",
              "  <tbody>\n",
              "    <tr>\n",
              "      <th>0</th>\n",
              "      <td>0</td>\n",
              "      <td>0.616983</td>\n",
              "      <td>0.650062</td>\n",
              "      <td>0.596738</td>\n",
              "      <td>0.626815</td>\n",
              "    </tr>\n",
              "    <tr>\n",
              "      <th>1</th>\n",
              "      <td>1</td>\n",
              "      <td>0.671727</td>\n",
              "      <td>0.574462</td>\n",
              "      <td>0.759863</td>\n",
              "      <td>0.522323</td>\n",
              "    </tr>\n",
              "    <tr>\n",
              "      <th>2</th>\n",
              "      <td>2</td>\n",
              "      <td>0.794118</td>\n",
              "      <td>0.459896</td>\n",
              "      <td>0.800455</td>\n",
              "      <td>0.416792</td>\n",
              "    </tr>\n",
              "    <tr>\n",
              "      <th>3</th>\n",
              "      <td>3</td>\n",
              "      <td>0.804554</td>\n",
              "      <td>0.395698</td>\n",
              "      <td>0.822079</td>\n",
              "      <td>0.373511</td>\n",
              "    </tr>\n",
              "    <tr>\n",
              "      <th>4</th>\n",
              "      <td>4</td>\n",
              "      <td>0.823624</td>\n",
              "      <td>0.370320</td>\n",
              "      <td>0.837633</td>\n",
              "      <td>0.358462</td>\n",
              "    </tr>\n",
              "  </tbody>\n",
              "</table>\n",
              "</div>"
            ],
            "text/plain": [
              "   epoch  accuracy      loss  val_accuracy  val_loss\n",
              "0      0  0.616983  0.650062      0.596738  0.626815\n",
              "1      1  0.671727  0.574462      0.759863  0.522323\n",
              "2      2  0.794118  0.459896      0.800455  0.416792\n",
              "3      3  0.804554  0.395698      0.822079  0.373511\n",
              "4      4  0.823624  0.370320      0.837633  0.358462"
            ]
          },
          "metadata": {
            "tags": []
          },
          "execution_count": 115
        }
      ]
    },
    {
      "cell_type": "code",
      "metadata": {
        "id": "x7y45GDBpJS3"
      },
      "source": [
        "def plot_train_hist(csv_hist_file):\r\n",
        "  hist_df = pd.read_csv(csv_hist_file)\r\n",
        "  hist_df[['accuracy', 'loss', 'val_accuracy', 'val_loss']].plot()"
      ],
      "execution_count": 116,
      "outputs": []
    },
    {
      "cell_type": "code",
      "metadata": {
        "colab": {
          "base_uri": "https://localhost:8080/",
          "height": 265
        },
        "id": "nJwY_azDpPKA",
        "outputId": "2dd157f3-0116-44b3-afeb-b0e0ff2ec95d"
      },
      "source": [
        "plot_train_hist(nn_file+'.csv')"
      ],
      "execution_count": 117,
      "outputs": [
        {
          "output_type": "display_data",
          "data": {
            "image/png": "[encoded data removed]",
            "text/plain": [
              "<Figure size 432x288 with 1 Axes>"
            ]
          },
          "metadata": {
            "tags": [],
            "needs_background": "light"
          }
        }
      ]
    },
    {
      "cell_type": "code",
      "metadata": {
        "colab": {
          "base_uri": "https://localhost:8080/",
          "height": 687
        },
        "id": "sBmcNUa8pU_w",
        "outputId": "13924696-7b74-40b2-a738-3889fbb1a52a"
      },
      "source": [
        "model = train_model(nn_file, X_train, y_train, epochs=30)"
      ],
      "execution_count": 118,
      "outputs": [
        {
          "output_type": "display_data",
          "data": {
            "image/png": "[encoded data removed]",
            "text/plain": [
              "<Figure size 864x576 with 2 Axes>"
            ]
          },
          "metadata": {
            "tags": [],
            "needs_background": "light"
          }
        },
        {
          "output_type": "stream",
          "text": [
            "accuracy\n",
            "\ttraining         \t (min:    0.835, max:    0.839, cur:    0.838)\n",
            "\tvalidation       \t (min:    0.837, max:    0.843, cur:    0.843)\n",
            "Loss\n",
            "\ttraining         \t (min:    0.332, max:    0.338, cur:    0.332)\n",
            "\tvalidation       \t (min:    0.335, max:    0.364, cur:    0.336)\n"
          ],
          "name": "stdout"
        }
      ]
    },
    {
      "cell_type": "code",
      "metadata": {
        "colab": {
          "base_uri": "https://localhost:8080/",
          "height": 265
        },
        "id": "v4YCN5RWpa5I",
        "outputId": "96a4e3d0-ec81-4504-8d02-5d57c38bafb8"
      },
      "source": [
        "\r\n",
        "plot_train_hist(nn_file+'.csv')"
      ],
      "execution_count": 119,
      "outputs": [
        {
          "output_type": "display_data",
          "data": {
            "image/png": "[encoded data removed]",
            "text/plain": [
              "<Figure size 432x288 with 1 Axes>"
            ]
          },
          "metadata": {
            "tags": [],
            "needs_background": "light"
          }
        }
      ]
    },
    {
      "cell_type": "code",
      "metadata": {
        "colab": {
          "base_uri": "https://localhost:8080/",
          "height": 687
        },
        "id": "cDo-K1k5pkyX",
        "outputId": "368726e9-b047-4e9c-e577-ef430635b799"
      },
      "source": [
        "model = train_model(nn_file, X_train, y_train, epochs=200)"
      ],
      "execution_count": 121,
      "outputs": [
        {
          "output_type": "display_data",
          "data": {
            "image/png": "[encoded data removed]",
            "text/plain": [
              "<Figure size 864x576 with 2 Axes>"
            ]
          },
          "metadata": {
            "tags": [],
            "needs_background": "light"
          }
        },
        {
          "output_type": "stream",
          "text": [
            "accuracy\n",
            "\ttraining         \t (min:    0.843, max:    0.848, cur:    0.845)\n",
            "\tvalidation       \t (min:    0.837, max:    0.847, cur:    0.844)\n",
            "Loss\n",
            "\ttraining         \t (min:    0.313, max:    0.317, cur:    0.314)\n",
            "\tvalidation       \t (min:    0.337, max:    0.366, cur:    0.349)\n"
          ],
          "name": "stdout"
        }
      ]
    },
    {
      "cell_type": "code",
      "metadata": {
        "id": "nPsCVrq7prWg"
      },
      "source": [
        "model = load_model(nn_file)                                                                                              "
      ],
      "execution_count": 122,
      "outputs": []
    },
    {
      "cell_type": "code",
      "metadata": {
        "colab": {
          "base_uri": "https://localhost:8080/"
        },
        "id": "PK_UqonKtK_7",
        "outputId": "a41e2db9-7dac-4d30-f687-53797ad6807f"
      },
      "source": [
        "y_proba = model.predict(X_test)\r\n",
        "print( 'y_proba\\n', y_proba)\r\n",
        "\r\n",
        "pred_label = model.predict_classes(X_test)\r\n",
        "print( 'pred_label\\n', pred_label )"
      ],
      "execution_count": 123,
      "outputs": [
        {
          "output_type": "stream",
          "text": [
            "y_proba\n",
            " [[2.4902150e-07]\n",
            " [5.1413327e-01]\n",
            " [6.9317871e-01]\n",
            " ...\n",
            " [2.4429387e-06]\n",
            " [4.1368043e-08]\n",
            " [1.5645941e-07]]\n"
          ],
          "name": "stdout"
        },
        {
          "output_type": "stream",
          "text": [
            "/usr/local/lib/python3.6/dist-packages/tensorflow/python/keras/engine/sequential.py:450: UserWarning: `model.predict_classes()` is deprecated and will be removed after 2021-01-01. Please use instead:* `np.argmax(model.predict(x), axis=-1)`,   if your model does multi-class classification   (e.g. if it uses a `softmax` last-layer activation).* `(model.predict(x) > 0.5).astype(\"int32\")`,   if your model does binary classification   (e.g. if it uses a `sigmoid` last-layer activation).\n",
            "  warnings.warn('`model.predict_classes()` is deprecated and '\n"
          ],
          "name": "stderr"
        },
        {
          "output_type": "stream",
          "text": [
            "pred_label\n",
            " [[0]\n",
            " [1]\n",
            " [1]\n",
            " ...\n",
            " [0]\n",
            " [0]\n",
            " [0]]\n"
          ],
          "name": "stdout"
        }
      ]
    },
    {
      "cell_type": "code",
      "metadata": {
        "colab": {
          "base_uri": "https://localhost:8080/"
        },
        "id": "MdCtZUPFtbCB",
        "outputId": "419adba1-1fdf-411b-f5e7-2f58e1dcd922"
      },
      "source": [
        "y_test.values"
      ],
      "execution_count": 124,
      "outputs": [
        {
          "output_type": "execute_result",
          "data": {
            "text/plain": [
              "array([[0],\n",
              "       [0],\n",
              "       [1],\n",
              "       ...,\n",
              "       [0],\n",
              "       [0],\n",
              "       [0]])"
            ]
          },
          "metadata": {
            "tags": []
          },
          "execution_count": 124
        }
      ]
    },
    {
      "cell_type": "code",
      "metadata": {
        "colab": {
          "base_uri": "https://localhost:8080/"
        },
        "id": "ntQzltvIteGo",
        "outputId": "4e4dd1d0-6d06-4158-e809-430f5b583fd1"
      },
      "source": [
        "true_label = y_test.values\r\n",
        "true_label"
      ],
      "execution_count": 134,
      "outputs": [
        {
          "output_type": "execute_result",
          "data": {
            "text/plain": [
              "array([[0],\n",
              "       [0],\n",
              "       [1],\n",
              "       ...,\n",
              "       [0],\n",
              "       [0],\n",
              "       [0]])"
            ]
          },
          "metadata": {
            "tags": []
          },
          "execution_count": 134
        }
      ]
    },
    {
      "cell_type": "code",
      "metadata": {
        "colab": {
          "base_uri": "https://localhost:8080/",
          "height": 631
        },
        "id": "YiXgVIVEtg_Y",
        "outputId": "15fc7fab-44b2-456b-a688-2da1d02f4ac1"
      },
      "source": [
        "class_names=[\"home\",\"not home\"]\r\n",
        "plot_conf_mat(true_label, pred_label, np.array(class_names))"
      ],
      "execution_count": 135,
      "outputs": [
        {
          "output_type": "stream",
          "text": [
            "Normalized confusion matrix\n",
            "[[0.7627867 0.2372133]\n",
            " [0.0479793 0.9520207]]\n"
          ],
          "name": "stdout"
        },
        {
          "output_type": "execute_result",
          "data": {
            "text/plain": [
              "<matplotlib.axes._subplots.AxesSubplot at 0x7fd3b9525128>"
            ]
          },
          "metadata": {
            "tags": []
          },
          "execution_count": 135
        },
        {
          "output_type": "display_data",
          "data": {
            "image/png": "[encoded data removed]",
            "text/plain": [
              "<Figure size 576x576 with 2 Axes>"
            ]
          },
          "metadata": {
            "tags": [],
            "needs_background": "light"
          }
        }
      ]
    },
    {
      "cell_type": "code",
      "metadata": {
        "id": "LDrobLuwt3PB"
      },
      "source": [
        ""
      ],
      "execution_count": null,
      "outputs": []
    },
    {
      "cell_type": "markdown",
      "metadata": {
        "id": "AfbfJ-bFu1xe"
      },
      "source": [
        "##Evaluate on target home data"
      ]
    },
    {
      "cell_type": "code",
      "metadata": {
        "id": "Qx1lxjW5u4LK"
      },
      "source": [
        "model = load_model(nn_file)"
      ],
      "execution_count": 139,
      "outputs": []
    },
    {
      "cell_type": "code",
      "metadata": {
        "id": "jYVxbaO-vTlQ"
      },
      "source": [
        "Xnew, ynew = shuffle(Xnew, ynew)"
      ],
      "execution_count": 140,
      "outputs": []
    },
    {
      "cell_type": "code",
      "metadata": {
        "id": "U8ceo-AZvWvA"
      },
      "source": [
        "Xnew_train, Xnew_test, ynew_train, ynew_test = train_test_split(Xnew, ynew, test_size=0.5)"
      ],
      "execution_count": 141,
      "outputs": []
    },
    {
      "cell_type": "code",
      "metadata": {
        "colab": {
          "base_uri": "https://localhost:8080/"
        },
        "id": "2fsXr3jhvu_z",
        "outputId": "30be7161-b7cc-4ec3-b734-d60aece32fe5"
      },
      "source": [
        "scaler = MinMaxScaler()\r\n",
        "scaler.fit(X_train)\r\n",
        "\r\n",
        "Xnew_train = scaler.transform(Xnew_train)\r\n",
        "Xnew_test = scaler.transform(Xnew_test)\r\n",
        "\r\n",
        "print('Xnew_train scaled\\n', Xnew_train[0:6, 2] )"
      ],
      "execution_count": 142,
      "outputs": [
        {
          "output_type": "stream",
          "text": [
            "X_train scaled\n",
            " [2. 0. 5. 4. 4. 4.]\n"
          ],
          "name": "stdout"
        }
      ]
    },
    {
      "cell_type": "code",
      "metadata": {
        "colab": {
          "base_uri": "https://localhost:8080/"
        },
        "id": "f5SenQQKv-Zb",
        "outputId": "9298a44b-b988-4e81-cb63-2674e59bfbb8"
      },
      "source": [
        "ynew_proba = model.predict(Xnew_test)\r\n",
        "print( 'y_proba\\n', ynew_proba)\r\n",
        "\r\n",
        "prednew_label = model.predict_classes(Xnew_test)\r\n",
        "print( 'pred_label\\n', prednew_label )"
      ],
      "execution_count": 143,
      "outputs": [
        {
          "output_type": "stream",
          "text": [
            "y_proba\n",
            " [[0.]\n",
            " [0.]\n",
            " [0.]\n",
            " ...\n",
            " [0.]\n",
            " [0.]\n",
            " [0.]]\n"
          ],
          "name": "stdout"
        },
        {
          "output_type": "stream",
          "text": [
            "/usr/local/lib/python3.6/dist-packages/tensorflow/python/keras/engine/sequential.py:450: UserWarning: `model.predict_classes()` is deprecated and will be removed after 2021-01-01. Please use instead:* `np.argmax(model.predict(x), axis=-1)`,   if your model does multi-class classification   (e.g. if it uses a `softmax` last-layer activation).* `(model.predict(x) > 0.5).astype(\"int32\")`,   if your model does binary classification   (e.g. if it uses a `sigmoid` last-layer activation).\n",
            "  warnings.warn('`model.predict_classes()` is deprecated and '\n"
          ],
          "name": "stderr"
        },
        {
          "output_type": "stream",
          "text": [
            "pred_label\n",
            " [[0]\n",
            " [0]\n",
            " [0]\n",
            " ...\n",
            " [0]\n",
            " [0]\n",
            " [0]]\n"
          ],
          "name": "stdout"
        }
      ]
    },
    {
      "cell_type": "code",
      "metadata": {
        "colab": {
          "base_uri": "https://localhost:8080/"
        },
        "id": "_4pUwm8DwJjw",
        "outputId": "a915116c-c7e0-48d2-df29-7258ffd6233c"
      },
      "source": [
        "truenew_label = ynew_test.values\r\n",
        "truenew_label"
      ],
      "execution_count": 144,
      "outputs": [
        {
          "output_type": "execute_result",
          "data": {
            "text/plain": [
              "array([[0],\n",
              "       [0],\n",
              "       [0],\n",
              "       ...,\n",
              "       [1],\n",
              "       [1],\n",
              "       [0]])"
            ]
          },
          "metadata": {
            "tags": []
          },
          "execution_count": 144
        }
      ]
    },
    {
      "cell_type": "code",
      "metadata": {
        "colab": {
          "base_uri": "https://localhost:8080/",
          "height": 631
        },
        "id": "oJlY0zx0wPQB",
        "outputId": "f5c01025-55d6-4318-ac69-5f5457d89b20"
      },
      "source": [
        "class_names=[\"home\",\"not home\"]\r\n",
        "plot_conf_mat(truenew_label, prednew_label, np.array(class_names))"
      ],
      "execution_count": 146,
      "outputs": [
        {
          "output_type": "stream",
          "text": [
            "Normalized confusion matrix\n",
            "[[0.93662491 0.06337509]\n",
            " [0.99580932 0.00419068]]\n"
          ],
          "name": "stdout"
        },
        {
          "output_type": "execute_result",
          "data": {
            "text/plain": [
              "<matplotlib.axes._subplots.AxesSubplot at 0x7fd3b93497b8>"
            ]
          },
          "metadata": {
            "tags": []
          },
          "execution_count": 146
        },
        {
          "output_type": "display_data",
          "data": {
            "image/png": "[encoded data removed]",
            "text/plain": [
              "<Figure size 576x576 with 2 Axes>"
            ]
          },
          "metadata": {
            "tags": [],
            "needs_background": "light"
          }
        }
      ]
    },
    {
      "cell_type": "code",
      "metadata": {
        "colab": {
          "base_uri": "https://localhost:8080/",
          "height": 687
        },
        "id": "sYT4JHOLwSMH",
        "outputId": "69fe9a0c-7033-4978-fc9c-dd6749686ffb"
      },
      "source": [
        "model = train_model(nn_file, Xnew_train, ynew_train, epochs=5)"
      ],
      "execution_count": 147,
      "outputs": [
        {
          "output_type": "display_data",
          "data": {
            "image/png": "[encoded data removed]",
            "text/plain": [
              "<Figure size 864x576 with 2 Axes>"
            ]
          },
          "metadata": {
            "tags": [],
            "needs_background": "light"
          }
        },
        {
          "output_type": "stream",
          "text": [
            "accuracy\n",
            "\ttraining         \t (min:    0.805, max:    0.805, cur:    0.805)\n",
            "\tvalidation       \t (min:    0.809, max:    0.809, cur:    0.809)\n",
            "Loss\n",
            "\ttraining         \t (min:      nan, max:      nan, cur:      nan)\n",
            "\tvalidation       \t (min:      nan, max:      nan, cur:      nan)\n"
          ],
          "name": "stdout"
        }
      ]
    },
    {
      "cell_type": "code",
      "metadata": {
        "id": "cbU6GElGwjYw"
      },
      "source": [
        ""
      ],
      "execution_count": null,
      "outputs": []
    }
  ]
}