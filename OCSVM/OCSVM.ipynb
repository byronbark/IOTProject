{
 "cells": [
  {
   "cell_type": "code",
   "execution_count": 224,
   "metadata": {},
   "outputs": [],
   "source": [
    "##Combine available source home csvs into one csv\n",
    "import os\n",
    "import glob\n",
    "import pandas as pd\n",
    "extension='csv'\n",
    "\n",
    "os.chdir(r\"C:\\Users\\b-byr\\Desktop\\Training Dataset\\Home\\CSVs\")\n",
    "\n",
    "if os.path.exists(\"allhome.csv\"):\n",
    "    os.remove(\"allhome.csv\")\n",
    "\n",
    "all_filenames = [i for i in glob.glob('*.{}'.format(extension))]\n",
    "#combine all files in the list\n",
    "combined_csv = pd.concat([pd.read_csv(f) for f in all_filenames ])\n",
    "#export to csv\n",
    "combined_csv.to_csv( \"allhome.csv\", index=False, encoding='utf-8-sig')\n",
    "\n",
    "os.chdir(r\"C:\\Users\\b-byr\\Desktop\\Training Dataset\\NotHome\\CSVs\")\n",
    "\n",
    "if os.path.exists(\"allnothome.csv\"):\n",
    "    os.remove(\"allnothome.csv\")\n",
    "\n",
    "all_filenames = [i for i in glob.glob('*.{}'.format(extension))]\n",
    "#Combine all files in the list\n",
    "combined_csv = pd.concat([pd.read_csv(f) for f in all_filenames ])\n",
    "#export to csv\n",
    "combined_csv.to_csv( \"allnothome.csv\", index=False, encoding='utf-8-sig')\n"
   ]
  },
  {
   "cell_type": "code",
   "execution_count": 229,
   "metadata": {},
   "outputs": [
    {
     "name": "stdout",
     "output_type": "stream",
     "text": [
      "(10110, 84)\n",
      "(500, 84)\n",
      "(38608, 84)\n"
     ]
    }
   ],
   "source": [
    "%matplotlib inline\n",
    "import numpy as np\n",
    "import pandas as pd\n",
    "from sklearn import utils \n",
    "import matplotlib\n",
    "\n",
    "##CSV Created from PCAP to CSV Utility in /PCAP Manipulation/\n",
    "\n",
    "#Add labels categorizing whether the data is home or not\n",
    "homedata = pd.read_csv(r'C:\\Users\\b-byr\\Desktop\\Training Dataset\\Home\\CSVs\\allhome.csv', low_memory=False)\n",
    "homedata[\"Label\"]=\"home\"\n",
    "\n",
    "targethomedata= pd.read_csv(r'C:\\Users\\b-byr\\Desktop\\Training Dataset\\TargetHome\\CSVs\\targethome.csv', low_memory=False)\n",
    "targethomedata[\"Label\"]=\"home\"\n",
    "\n",
    "nothomedata = pd.read_csv(r'C:\\Users\\b-byr\\Desktop\\Training Dataset\\NotHome\\CSVs\\allnothome.csv', low_memory=False)\n",
    "nothomedata[\"Label\"]=\"nothome\"\n",
    "\n",
    "#Limit to TCP Flows, reduce number of nothome after filtering for TCP -> To be adjusted\n",
    "homedata = homedata[homedata['Protocol'] == 6]\n",
    "nothomedata = nothomedata[nothomedata['Protocol'] == 6]\n",
    "targethomedata = targethomedata[targethomedata['Protocol'] == 6]\n",
    "nothomedata=nothomedata.head(n=500)\n",
    "\n",
    "#Check that the dataframes are populated successfully\n",
    "print(homedata.shape)\n",
    "print(nothomedata.shape)\n",
    "print(targethomedata.shape)"
   ]
  },
  {
   "cell_type": "code",
   "execution_count": 226,
   "metadata": {},
   "outputs": [
    {
     "name": "stdout",
     "output_type": "stream",
     "text": [
      "(10610, 84)\n"
     ]
    }
   ],
   "source": [
    "data=homedata.append(nothomedata)\n",
    "print(data.shape)"
   ]
  },
  {
   "cell_type": "code",
   "execution_count": 227,
   "metadata": {},
   "outputs": [
    {
     "data": {
      "text/plain": [
       "<matplotlib.axes._subplots.AxesSubplot at 0x17194ebaeb0>"
      ]
     },
     "execution_count": 227,
     "metadata": {},
     "output_type": "execute_result"
    },
    {
     "data": {
      "image/png": "[encoded data removed]",
      "text/plain": [
       "<Figure size 432x288 with 1 Axes>"
      ]
     },
     "metadata": {
      "needs_background": "light"
     },
     "output_type": "display_data"
    }
   ],
   "source": [
    "data.Label.value_counts().plot(kind='bar')"
   ]
  },
  {
   "cell_type": "code",
   "execution_count": 228,
   "metadata": {},
   "outputs": [
    {
     "name": "stdout",
     "output_type": "stream",
     "text": [
      "outliers.shape (500,)\n",
      "outlier fraction 0.0471253534401508\n",
      "0      1.0\n",
      "4      1.0\n",
      "5      1.0\n",
      "6      1.0\n",
      "8      1.0\n",
      "      ... \n",
      "830   -1.0\n",
      "832   -1.0\n",
      "834   -1.0\n",
      "836   -1.0\n",
      "838   -1.0\n",
      "Name: nothome, Length: 10610, dtype: float64\n"
     ]
    },
    {
     "data": {
      "text/plain": [
       "(10610, 79)"
      ]
     },
     "execution_count": 228,
     "metadata": {},
     "output_type": "execute_result"
    }
   ],
   "source": [
    "# the full dataset contains features for SMTP, NDP, ICMP, etc.\n",
    "# here we'll grab just the relevant features for HTTP. \n",
    "# relevant_features = [\n",
    "#   fill features to filter to, if desired. Else leave commented out and all features will be used.\n",
    "# ]\n",
    "#Subset the data with only the relevant features, leave as is if desire no feature engineering (will take longer)\n",
    "#data = data[relevant_features]\n",
    "#Normalize data, performs better with SVM\n",
    "data[\"Flow Duration\"] = np.log((data[\"Flow Duration\"] + 0.1).astype(float)) \n",
    "\n",
    "if len(data) !=  0:\n",
    "    data.loc[data['Label'] == \"home\",\"nothome\"] = 1 \n",
    "    data.loc[data['Label'] != \"home\",\"nothome\"] = -1\n",
    "\n",
    "target = data['nothome']\n",
    "\n",
    "outliers = target[target == -1]\n",
    "print(\"outliers.shape\", outliers.shape)\n",
    "print(\"outlier fraction\", outliers.shape[0]/target.shape[0])\n",
    "print(target)\n",
    "\n",
    "data.drop([\"Label\", \"nothome\"], axis=1, inplace=True)\n",
    "data.drop(['Flow ID','Dst IP','Src IP','Timestamp'], axis=1, inplace=True)\n",
    "##Verify that the dimension has dropped by 1 and therefore label has been removed\n",
    "data.shape"
   ]
  },
  {
   "cell_type": "code",
   "execution_count": 230,
   "metadata": {},
   "outputs": [
    {
     "name": "stderr",
     "output_type": "stream",
     "text": [
      "C:\\Users\\b-byr\\anaconda3\\lib\\site-packages\\pandas\\core\\series.py:679: RuntimeWarning: invalid value encountered in log\n",
      "  result = getattr(ufunc, method)(*inputs, **kwargs)\n"
     ]
    },
    {
     "name": "stdout",
     "output_type": "stream",
     "text": [
      "0         1.0\n",
      "1         1.0\n",
      "2         1.0\n",
      "3         1.0\n",
      "4         1.0\n",
      "         ... \n",
      "118501    1.0\n",
      "118504    1.0\n",
      "118505    1.0\n",
      "118506    1.0\n",
      "118511    1.0\n",
      "Name: nothome, Length: 38608, dtype: float64\n"
     ]
    },
    {
     "data": {
      "text/plain": [
       "(38608, 79)"
      ]
     },
     "execution_count": 230,
     "metadata": {},
     "output_type": "execute_result"
    }
   ],
   "source": [
    "targethomedata[\"Flow Duration\"] = np.log((targethomedata[\"Flow Duration\"] + 0.1).astype(float)) \n",
    "\n",
    "if len(targethomedata) !=  0:\n",
    "    targethomedata.loc[targethomedata['Label'] == \"home\",\"nothome\"] = 1 \n",
    "    targethomedata.loc[targethomedata['Label'] != \"home\",\"nothome\"] = -1\n",
    "\n",
    "targethome = targethomedata['nothome']\n",
    "print(targethome)\n",
    "\n",
    "targethomedata.drop([\"Label\", \"nothome\"], axis=1, inplace=True)\n",
    "targethomedata.drop(['Flow ID','Dst IP','Src IP','Timestamp'], axis=1, inplace=True)\n",
    "##Verify that the dimension has dropped by 1 and therefore label has been removed\n",
    "targethomedata.shape"
   ]
  },
  {
   "cell_type": "code",
   "execution_count": 231,
   "metadata": {},
   "outputs": [],
   "source": [
    "#Split some training and test data from the source set to evaluate later\n",
    "from sklearn.model_selection import train_test_split\n",
    "train_data, test_data, train_target, test_target = train_test_split(data, target, train_size = 0.8)"
   ]
  },
  {
   "cell_type": "code",
   "execution_count": 232,
   "metadata": {},
   "outputs": [
    {
     "name": "stdout",
     "output_type": "stream",
     "text": [
      "nu 0.0471253534401508\n"
     ]
    },
    {
     "data": {
      "text/plain": [
       "OneClassSVM(gamma=2e-20, nu=0.05)"
      ]
     },
     "execution_count": 232,
     "metadata": {},
     "output_type": "execute_result"
    }
   ],
   "source": [
    "from sklearn import svm\n",
    "nu = outliers.shape[0] / target.shape[0]\n",
    "print(\"nu\", nu)\n",
    "#Set model with hypermarameters, rbf is the most common kernel (non linear) and gamma can be modified later to fine tune the success\n",
    "model = svm.OneClassSVM(nu=0.05, kernel='rbf', gamma=2e-20) \n",
    "model.fit(train_data)"
   ]
  },
  {
   "cell_type": "code",
   "execution_count": 233,
   "metadata": {},
   "outputs": [
    {
     "name": "stdout",
     "output_type": "stream",
     "text": [
      "accuracy:  0.9065739868049011\n",
      "precision:  0.9495486583405466\n",
      "recall:  0.9522569444444444\n",
      "f1:  0.9509008730109592\n",
      "area under curve (auc):  0.4949963967505241\n"
     ]
    }
   ],
   "source": [
    "##Test the model\n",
    "from sklearn import metrics\n",
    "\n",
    "preds = model.predict(train_data)\n",
    "targs = train_target \n",
    "\n",
    "print(\"accuracy: \", metrics.accuracy_score(targs, preds))\n",
    "print(\"precision: \", metrics.precision_score(targs, preds)) \n",
    "print(\"recall: \", metrics.recall_score(targs, preds))\n",
    "print(\"f1: \", metrics.f1_score(targs, preds))\n",
    "print(\"area under curve (auc): \", metrics.roc_auc_score(targs, preds))"
   ]
  },
  {
   "cell_type": "code",
   "execution_count": 234,
   "metadata": {},
   "outputs": [
    {
     "name": "stdout",
     "output_type": "stream",
     "text": [
      "accuracy:  0.9147031102733271\n",
      "precision:  0.9636996519144704\n",
      "recall:  0.9472140762463344\n",
      "f1:  0.9553857530194725\n",
      "area under curve (auc):  0.49334388022843034\n"
     ]
    }
   ],
   "source": [
    "##Evaluate on unseen test data\n",
    "preds = model.predict(test_data)\n",
    "targs = test_target \n",
    "print(\"accuracy: \", metrics.accuracy_score(targs, preds))\n",
    "print(\"precision: \", metrics.precision_score(targs, preds)) \n",
    "print(\"recall: \", metrics.recall_score(targs, preds))\n",
    "print(\"f1: \", metrics.f1_score(targs, preds))\n",
    "print(\"area under curve (auc): \", metrics.roc_auc_score(targs, preds))"
   ]
  },
  {
   "cell_type": "code",
   "execution_count": 254,
   "metadata": {},
   "outputs": [],
   "source": [
    "##Evaluate target home device\n",
    "\n",
    "from sklearn.model_selection import train_test_split\n",
    "targethomedata.fillna(targethomedata.mean(), inplace=True)\n",
    "newhome_data, newtest_data, newhome_target, newtest_target = train_test_split(targethomedata, targethome, train_size = 0.8)"
   ]
  },
  {
   "cell_type": "code",
   "execution_count": 245,
   "metadata": {},
   "outputs": [
    {
     "name": "stdout",
     "output_type": "stream",
     "text": [
      "        Src Port  Dst Port  Protocol  Flow Duration  Tot Fwd Pkts  \\\n",
      "65932         80     35302         6       7.597446             1   \n",
      "117111     55970       443         6      18.466848             3   \n",
      "25924      46800      5228         6      18.317331             4   \n",
      "104805     56692       443         6      18.466518             3   \n",
      "43842      46800      5228         6      18.316765             4   \n",
      "...          ...       ...       ...            ...           ...   \n",
      "97852      51559      5228         6      18.316737             4   \n",
      "61406         80     51582         6       8.508778             1   \n",
      "71700      45869       443         6       7.949480             2   \n",
      "109257     57765        80         6       9.364957             5   \n",
      "72144      45028       443         6       7.951595             2   \n",
      "\n",
      "        Tot Bwd Pkts  TotLen Fwd Pkts  TotLen Bwd Pkts  Fwd Pkt Len Max  \\\n",
      "65932              1              0.0              0.0              0.0   \n",
      "117111             5              0.0             55.0              0.0   \n",
      "25924              3             26.0             26.0             26.0   \n",
      "104805             5              0.0             55.0              0.0   \n",
      "43842              3             26.0             26.0             26.0   \n",
      "...              ...              ...              ...              ...   \n",
      "97852              3             26.0             26.0             26.0   \n",
      "61406              1              0.0              0.0              0.0   \n",
      "71700              1              0.0              0.0              0.0   \n",
      "109257             3             71.0             83.0             71.0   \n",
      "72144              1              0.0              0.0              0.0   \n",
      "\n",
      "        Fwd Pkt Len Min  ...  Fwd Act Data Pkts  Fwd Seg Size Min  \\\n",
      "65932               0.0  ...                  0                32   \n",
      "117111              0.0  ...                  0                32   \n",
      "25924               0.0  ...                  0                32   \n",
      "104805              0.0  ...                  0                32   \n",
      "43842               0.0  ...                  0                32   \n",
      "...                 ...  ...                ...               ...   \n",
      "97852               0.0  ...                  0                32   \n",
      "61406               0.0  ...                  0                32   \n",
      "71700               0.0  ...                  0                32   \n",
      "109257              0.0  ...                  1                32   \n",
      "72144               0.0  ...                  0                32   \n",
      "\n",
      "        Active Mean  Active Std  Active Max  Active Min     Idle Mean  \\\n",
      "65932             0           0           0           0  0.000000e+00   \n",
      "117111            0           0           0           0  1.524743e+15   \n",
      "25924             0           0           0           0  1.524413e+15   \n",
      "104805            0           0           0           0  1.524654e+15   \n",
      "43842             0           0           0           0  1.524423e+15   \n",
      "...             ...         ...         ...         ...           ...   \n",
      "97852             0           0           0           0  1.524603e+15   \n",
      "61406             0           0           0           0  0.000000e+00   \n",
      "71700             0           0           0           0  1.524647e+15   \n",
      "109257            0           0           0           0  1.524687e+15   \n",
      "72144             0           0           0           0  1.524503e+15   \n",
      "\n",
      "            Idle Std      Idle Max      Idle Min  \n",
      "65932   0.000000e+00  0.000000e+00  0.000000e+00  \n",
      "117111  4.157074e+07  1.524743e+15  1.524743e+15  \n",
      "25924   3.770662e+07  1.524413e+15  1.524413e+15  \n",
      "104805  4.156034e+07  1.524654e+15  1.524654e+15  \n",
      "43842   3.769728e+07  1.524423e+15  1.524423e+15  \n",
      "...              ...           ...           ...  \n",
      "97852   3.769508e+07  1.524603e+15  1.524603e+15  \n",
      "61406   0.000000e+00  0.000000e+00  0.000000e+00  \n",
      "71700   0.000000e+00  1.524647e+15  1.524647e+15  \n",
      "109257  3.506637e+03  1.524687e+15  1.524687e+15  \n",
      "72144   0.000000e+00  1.524503e+15  1.524503e+15  \n",
      "\n",
      "[38221 rows x 79 columns]\n",
      "65932     1.0\n",
      "117111    1.0\n",
      "25924     1.0\n",
      "104805    1.0\n",
      "43842     1.0\n",
      "         ... \n",
      "97852     1.0\n",
      "61406     1.0\n",
      "71700     1.0\n",
      "109257    1.0\n",
      "72144     1.0\n",
      "Name: nothome, Length: 38221, dtype: float64\n"
     ]
    }
   ],
   "source": [
    "print(newhome_data)\n",
    "print(newhome_target)"
   ]
  },
  {
   "cell_type": "code",
   "execution_count": 255,
   "metadata": {},
   "outputs": [
    {
     "name": "stdout",
     "output_type": "stream",
     "text": [
      "accuracy:  0.27559412031341063\n",
      "precision:  1.0\n",
      "recall:  0.27559412031341063\n",
      "f1:  0.43210315244428654\n"
     ]
    },
    {
     "ename": "ValueError",
     "evalue": "Only one class present in y_true. ROC AUC score is not defined in that case.",
     "output_type": "error",
     "traceback": [
      "\u001b[1;31m---------------------------------------------------------------------------\u001b[0m",
      "\u001b[1;31mValueError\u001b[0m                                Traceback (most recent call last)",
      "\u001b[1;32m<ipython-input-255-ace2540117a8>\u001b[0m in \u001b[0;36m<module>\u001b[1;34m\u001b[0m\n\u001b[0;32m      5\u001b[0m \u001b[0mprint\u001b[0m\u001b[1;33m(\u001b[0m\u001b[1;34m\"recall: \"\u001b[0m\u001b[1;33m,\u001b[0m \u001b[0mmetrics\u001b[0m\u001b[1;33m.\u001b[0m\u001b[0mrecall_score\u001b[0m\u001b[1;33m(\u001b[0m\u001b[0mtargs\u001b[0m\u001b[1;33m,\u001b[0m \u001b[0mpreds\u001b[0m\u001b[1;33m)\u001b[0m\u001b[1;33m)\u001b[0m\u001b[1;33m\u001b[0m\u001b[1;33m\u001b[0m\u001b[0m\n\u001b[0;32m      6\u001b[0m \u001b[0mprint\u001b[0m\u001b[1;33m(\u001b[0m\u001b[1;34m\"f1: \"\u001b[0m\u001b[1;33m,\u001b[0m \u001b[0mmetrics\u001b[0m\u001b[1;33m.\u001b[0m\u001b[0mf1_score\u001b[0m\u001b[1;33m(\u001b[0m\u001b[0mtargs\u001b[0m\u001b[1;33m,\u001b[0m \u001b[0mpreds\u001b[0m\u001b[1;33m)\u001b[0m\u001b[1;33m)\u001b[0m\u001b[1;33m\u001b[0m\u001b[1;33m\u001b[0m\u001b[0m\n\u001b[1;32m----> 7\u001b[1;33m \u001b[0mprint\u001b[0m\u001b[1;33m(\u001b[0m\u001b[1;34m\"area under curve (auc): \"\u001b[0m\u001b[1;33m,\u001b[0m \u001b[0mmetrics\u001b[0m\u001b[1;33m.\u001b[0m\u001b[0mroc_auc_score\u001b[0m\u001b[1;33m(\u001b[0m\u001b[0mtargs\u001b[0m\u001b[1;33m,\u001b[0m \u001b[0mpreds\u001b[0m\u001b[1;33m)\u001b[0m\u001b[1;33m)\u001b[0m\u001b[1;33m\u001b[0m\u001b[1;33m\u001b[0m\u001b[0m\n\u001b[0m",
      "\u001b[1;32m~\\anaconda3\\lib\\site-packages\\sklearn\\utils\\validation.py\u001b[0m in \u001b[0;36minner_f\u001b[1;34m(*args, **kwargs)\u001b[0m\n\u001b[0;32m     71\u001b[0m                           FutureWarning)\n\u001b[0;32m     72\u001b[0m         \u001b[0mkwargs\u001b[0m\u001b[1;33m.\u001b[0m\u001b[0mupdate\u001b[0m\u001b[1;33m(\u001b[0m\u001b[1;33m{\u001b[0m\u001b[0mk\u001b[0m\u001b[1;33m:\u001b[0m \u001b[0marg\u001b[0m \u001b[1;32mfor\u001b[0m \u001b[0mk\u001b[0m\u001b[1;33m,\u001b[0m \u001b[0marg\u001b[0m \u001b[1;32min\u001b[0m \u001b[0mzip\u001b[0m\u001b[1;33m(\u001b[0m\u001b[0msig\u001b[0m\u001b[1;33m.\u001b[0m\u001b[0mparameters\u001b[0m\u001b[1;33m,\u001b[0m \u001b[0margs\u001b[0m\u001b[1;33m)\u001b[0m\u001b[1;33m}\u001b[0m\u001b[1;33m)\u001b[0m\u001b[1;33m\u001b[0m\u001b[1;33m\u001b[0m\u001b[0m\n\u001b[1;32m---> 73\u001b[1;33m         \u001b[1;32mreturn\u001b[0m \u001b[0mf\u001b[0m\u001b[1;33m(\u001b[0m\u001b[1;33m**\u001b[0m\u001b[0mkwargs\u001b[0m\u001b[1;33m)\u001b[0m\u001b[1;33m\u001b[0m\u001b[1;33m\u001b[0m\u001b[0m\n\u001b[0m\u001b[0;32m     74\u001b[0m     \u001b[1;32mreturn\u001b[0m \u001b[0minner_f\u001b[0m\u001b[1;33m\u001b[0m\u001b[1;33m\u001b[0m\u001b[0m\n\u001b[0;32m     75\u001b[0m \u001b[1;33m\u001b[0m\u001b[0m\n",
      "\u001b[1;32m~\\anaconda3\\lib\\site-packages\\sklearn\\metrics\\_ranking.py\u001b[0m in \u001b[0;36mroc_auc_score\u001b[1;34m(y_true, y_score, average, sample_weight, max_fpr, multi_class, labels)\u001b[0m\n\u001b[0;32m    388\u001b[0m         \u001b[0mlabels\u001b[0m \u001b[1;33m=\u001b[0m \u001b[0mnp\u001b[0m\u001b[1;33m.\u001b[0m\u001b[0munique\u001b[0m\u001b[1;33m(\u001b[0m\u001b[0my_true\u001b[0m\u001b[1;33m)\u001b[0m\u001b[1;33m\u001b[0m\u001b[1;33m\u001b[0m\u001b[0m\n\u001b[0;32m    389\u001b[0m         \u001b[0my_true\u001b[0m \u001b[1;33m=\u001b[0m \u001b[0mlabel_binarize\u001b[0m\u001b[1;33m(\u001b[0m\u001b[0my_true\u001b[0m\u001b[1;33m,\u001b[0m \u001b[0mclasses\u001b[0m\u001b[1;33m=\u001b[0m\u001b[0mlabels\u001b[0m\u001b[1;33m)\u001b[0m\u001b[1;33m[\u001b[0m\u001b[1;33m:\u001b[0m\u001b[1;33m,\u001b[0m \u001b[1;36m0\u001b[0m\u001b[1;33m]\u001b[0m\u001b[1;33m\u001b[0m\u001b[1;33m\u001b[0m\u001b[0m\n\u001b[1;32m--> 390\u001b[1;33m         return _average_binary_score(partial(_binary_roc_auc_score,\n\u001b[0m\u001b[0;32m    391\u001b[0m                                              max_fpr=max_fpr),\n\u001b[0;32m    392\u001b[0m                                      \u001b[0my_true\u001b[0m\u001b[1;33m,\u001b[0m \u001b[0my_score\u001b[0m\u001b[1;33m,\u001b[0m \u001b[0maverage\u001b[0m\u001b[1;33m,\u001b[0m\u001b[1;33m\u001b[0m\u001b[1;33m\u001b[0m\u001b[0m\n",
      "\u001b[1;32m~\\anaconda3\\lib\\site-packages\\sklearn\\metrics\\_base.py\u001b[0m in \u001b[0;36m_average_binary_score\u001b[1;34m(binary_metric, y_true, y_score, average, sample_weight)\u001b[0m\n\u001b[0;32m     75\u001b[0m \u001b[1;33m\u001b[0m\u001b[0m\n\u001b[0;32m     76\u001b[0m     \u001b[1;32mif\u001b[0m \u001b[0my_type\u001b[0m \u001b[1;33m==\u001b[0m \u001b[1;34m\"binary\"\u001b[0m\u001b[1;33m:\u001b[0m\u001b[1;33m\u001b[0m\u001b[1;33m\u001b[0m\u001b[0m\n\u001b[1;32m---> 77\u001b[1;33m         \u001b[1;32mreturn\u001b[0m \u001b[0mbinary_metric\u001b[0m\u001b[1;33m(\u001b[0m\u001b[0my_true\u001b[0m\u001b[1;33m,\u001b[0m \u001b[0my_score\u001b[0m\u001b[1;33m,\u001b[0m \u001b[0msample_weight\u001b[0m\u001b[1;33m=\u001b[0m\u001b[0msample_weight\u001b[0m\u001b[1;33m)\u001b[0m\u001b[1;33m\u001b[0m\u001b[1;33m\u001b[0m\u001b[0m\n\u001b[0m\u001b[0;32m     78\u001b[0m \u001b[1;33m\u001b[0m\u001b[0m\n\u001b[0;32m     79\u001b[0m     \u001b[0mcheck_consistent_length\u001b[0m\u001b[1;33m(\u001b[0m\u001b[0my_true\u001b[0m\u001b[1;33m,\u001b[0m \u001b[0my_score\u001b[0m\u001b[1;33m,\u001b[0m \u001b[0msample_weight\u001b[0m\u001b[1;33m)\u001b[0m\u001b[1;33m\u001b[0m\u001b[1;33m\u001b[0m\u001b[0m\n",
      "\u001b[1;32m~\\anaconda3\\lib\\site-packages\\sklearn\\metrics\\_ranking.py\u001b[0m in \u001b[0;36m_binary_roc_auc_score\u001b[1;34m(y_true, y_score, sample_weight, max_fpr)\u001b[0m\n\u001b[0;32m    221\u001b[0m     \u001b[1;34m\"\"\"Binary roc auc score\"\"\"\u001b[0m\u001b[1;33m\u001b[0m\u001b[1;33m\u001b[0m\u001b[0m\n\u001b[0;32m    222\u001b[0m     \u001b[1;32mif\u001b[0m \u001b[0mlen\u001b[0m\u001b[1;33m(\u001b[0m\u001b[0mnp\u001b[0m\u001b[1;33m.\u001b[0m\u001b[0munique\u001b[0m\u001b[1;33m(\u001b[0m\u001b[0my_true\u001b[0m\u001b[1;33m)\u001b[0m\u001b[1;33m)\u001b[0m \u001b[1;33m!=\u001b[0m \u001b[1;36m2\u001b[0m\u001b[1;33m:\u001b[0m\u001b[1;33m\u001b[0m\u001b[1;33m\u001b[0m\u001b[0m\n\u001b[1;32m--> 223\u001b[1;33m         raise ValueError(\"Only one class present in y_true. ROC AUC score \"\n\u001b[0m\u001b[0;32m    224\u001b[0m                          \"is not defined in that case.\")\n\u001b[0;32m    225\u001b[0m \u001b[1;33m\u001b[0m\u001b[0m\n",
      "\u001b[1;31mValueError\u001b[0m: Only one class present in y_true. ROC AUC score is not defined in that case."
     ]
    }
   ],
   "source": [
    "preds=model.predict(newhome_data)\n",
    "targs=newhome_target\n",
    "print(\"accuracy: \", metrics.accuracy_score(targs, preds))\n",
    "print(\"precision: \", metrics.precision_score(targs, preds)) \n",
    "print(\"recall: \", metrics.recall_score(targs, preds))\n",
    "print(\"f1: \", metrics.f1_score(targs, preds))\n",
    "print(\"area under curve (auc): \", metrics.roc_auc_score(targs, preds))"
   ]
  },
  {
   "cell_type": "code",
   "execution_count": 248,
   "metadata": {},
   "outputs": [
    {
     "data": {
      "text/plain": [
       "['oneclass_v1.model']"
      ]
     },
     "execution_count": 248,
     "metadata": {},
     "output_type": "execute_result"
    }
   ],
   "source": [
    "##To save model for later use\n",
    "outputfile = 'oneclass_v1.model'\n",
    "import joblib\n",
    "joblib.dump(model, outputfile, compress=9)"
   ]
  },
  {
   "cell_type": "code",
   "execution_count": null,
   "metadata": {},
   "outputs": [],
   "source": []
  }
 ],
 "metadata": {
  "kernelspec": {
   "display_name": "Python 3",
   "language": "python",
   "name": "python3"
  },
  "language_info": {
   "codemirror_mode": {
    "name": "ipython",
    "version": 3
   },
   "file_extension": ".py",
   "mimetype": "text/x-python",
   "name": "python",
   "nbconvert_exporter": "python",
   "pygments_lexer": "ipython3",
   "version": "3.8.3"
  }
 },
 "nbformat": 4,
 "nbformat_minor": 4
}
