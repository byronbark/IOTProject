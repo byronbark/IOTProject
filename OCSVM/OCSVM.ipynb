{
 "cells": [
  {
   "cell_type": "code",
   "execution_count": null,
   "metadata": {},
   "outputs": [],
   "source": [
    "%matplotlib inline\n",
    "import numpy as np\n",
    "import pandas as pd\n",
    "from sklearn import utils \n",
    "import matplotlib\n",
    "\n",
    "##CSV Created from PCAP to CSV Utility in /PCAP Manipulation/\n",
    "\n",
    "data = pd.read_csv('path', low_memory=False)\n",
    "\n",
    "# extract the specific type of data wanted, such as\n",
    "data = data[data['protocol'] == \"tcp\"]\n",
    "data = data[data[\"mac\"] == \"xx:xx:xx:xx:xx\"]\n",
    "\n",
    "# the full dataset contains features for SMTP, NDP, ICMP, etc.\n",
    "# here we'll grab just the relevant features for HTTP. \n",
    "relevant_features = [\n",
    "  \"duration\",\n",
    "  \"src_bytes\",\n",
    "  \"dst_bytes\",\n",
    "  \"length\",\n",
    "  \"label\" ## -> if it is labeled\n",
    "]\n",
    "#Subset the data with only the relevant features, leave as is if desire no feature engineering (will take longer)\n",
    "data = data[relevant_features]\n",
    "#Normalize data, performs better with SVM\n",
    "data[\"duration\"] = np.log((data[\"duration\"] + 0.1).astype(float)) \n",
    "data[\"src_bytes\"] = np.log((data[\"src_bytes\"] + 0.1).astype(float)) \n",
    "data[\"dst_bytes\"] = np.log((data[\"dst_bytes\"] + 0.1).astype(float))\n",
    "\n",
    "data.loc[data['label'] == \"home\", \"nothome\"] = 1 \n",
    "data.loc[data['label'] != \"home\", \"nothome\"] = -1\n",
    "\n",
    "target = data['nothome']\n",
    "\n",
    "outliers = target[target == -1]\n",
    "print(\"outliers.shape\", outliers.shape)\n",
    "print(\"outlier fraction\", outliers.shape[0]/target.shape[0])\n",
    "\n",
    "data.drop([\"label\", \"nothome\"], axis=1, inplace=True)\n",
    "##Verify that the dimension has dropped by 1 and therefore label has been removed\n",
    "data.shape"
   ]
  },
  {
   "cell_type": "code",
   "execution_count": null,
   "metadata": {},
   "outputs": [],
   "source": [
    "#Split some training and test data from the source set to evaluate later\n",
    "from sklearn.model_selection import train_test_split\n",
    "train_data, test_data, train_target, test_target = train_test_split(data, target, train_size = 0.8)\n",
    "train_data.shape"
   ]
  },
  {
   "cell_type": "code",
   "execution_count": null,
   "metadata": {},
   "outputs": [],
   "source": [
    "from sklearn import svm\n",
    "nu = outliers.shape[0] / target.shape[0]\n",
    "print(\"nu\", nu)\n",
    "#Set model with hypermarameters, rbf is the most common kernel (non linear) and gamma can be modified later to fine tune the success\n",
    "model = svm.OneClassSVM(nu=nu, kernel='rbf', gamma=0.00005) \n",
    "model.fit(train_data)"
   ]
  },
  {
   "cell_type": "code",
   "execution_count": null,
   "metadata": {},
   "outputs": [],
   "source": [
    "##Test the model\n",
    "from sklearn import metrics\n",
    "preds = model.predict(train_data)\n",
    "targs = train_target print(\"accuracy: \", metrics.accuracy_score(targs, preds))\n",
    "print(\"precision: \", metrics.precision_score(targs, preds)) \n",
    "print(\"recall: \", metrics.recall_score(targs, preds))\n",
    "print(\"f1: \", metrics.f1_score(targs, preds))\n",
    "print(\"area under curve (auc): \", metrics.roc_auc_score(targs, preds))"
   ]
  },
  {
   "cell_type": "code",
   "execution_count": null,
   "metadata": {},
   "outputs": [],
   "source": [
    "##Evaluate on unseen test data\n",
    "preds = model.predict(test_data)\n",
    "targs = test_target print(\"accuracy: \", metrics.accuracy_score(targs, preds))\n",
    "print(\"precision: \", metrics.precision_score(targs, preds)) \n",
    "print(\"recall: \", metrics.recall_score(targs, preds))\n",
    "print(\"f1: \", metrics.f1_score(targs, preds))\n",
    "print(\"area under curve (auc): \", metrics.roc_auc_score(targs, preds))"
   ]
  },
  {
   "cell_type": "code",
   "execution_count": null,
   "metadata": {},
   "outputs": [],
   "source": [
    "##To save model for later use\n",
    "outputfile = 'oneclass_v1.model'\n",
    "from sklearn.externals import joblib\n",
    "joblib.dump(model, outputfile, compress=9)"
   ]
  }
 ],
 "metadata": {
  "kernelspec": {
   "display_name": "Python 3",
   "language": "python",
   "name": "python3"
  },
  "language_info": {
   "codemirror_mode": {
    "name": "ipython",
    "version": 3
   },
   "file_extension": ".py",
   "mimetype": "text/x-python",
   "name": "python",
   "nbconvert_exporter": "python",
   "pygments_lexer": "ipython3",
   "version": "3.8.3"
  }
 },
 "nbformat": 4,
 "nbformat_minor": 4
}
