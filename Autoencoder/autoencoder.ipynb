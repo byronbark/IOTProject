{
 "cells": [
  {
   "cell_type": "code",
   "execution_count": 1,
   "metadata": {},
   "outputs": [
    {
     "name": "stderr",
     "output_type": "stream",
     "text": [
      "Using TensorFlow backend.\n"
     ]
    }
   ],
   "source": [
    "import pandas as pd  \n",
    "import numpy as np \n",
    "from sklearn.model_selection import train_test_split  \n",
    "from sklearn.linear_model import LogisticRegression \n",
    "from sklearn.metrics import accuracy_score \n",
    "from sklearn.preprocessing import MinMaxScaler  \n",
    "from sklearn.manifold import TSNE \n",
    "import matplotlib.pyplot as plt \n",
    "import seaborn as sns \n",
    "from keras.layers import Input, Dense \n",
    "from keras.models import Model, Sequential \n",
    "from keras import regularizers"
   ]
  },
  {
   "cell_type": "code",
   "execution_count": 2,
   "metadata": {},
   "outputs": [
    {
     "name": "stdout",
     "output_type": "stream",
     "text": [
      "(4101, 84)\n",
      "(500, 84)\n",
      "(38608, 84)\n"
     ]
    }
   ],
   "source": [
    "homedata = pd.read_csv(r'C:\\Users\\lazrag\\Desktop\\Training Dataset\\Home\\CSVs\\allhome.csv', low_memory=False)\n",
    "homedata[\"Label\"]=\"home\"\n",
    "\n",
    "targethomedata= pd.read_csv(r'C:\\Users\\lazrag\\Desktop\\Training Dataset\\TargetHome\\CSVs\\targethome.csv', low_memory=False)\n",
    "targethomedata[\"Label\"]=\"home\"\n",
    "\n",
    "nothomedata = pd.read_csv(r'C:\\Users\\lazrag\\Desktop\\Training Dataset\\NotHome\\CSVs\\allnothome.csv', low_memory=False)\n",
    "nothomedata[\"Label\"]=\"nothome\"\n",
    "\n",
    "homedata = homedata[homedata['Protocol'] == 6]\n",
    "nothomedata = nothomedata[nothomedata['Protocol'] == 6]\n",
    "targethomedata = targethomedata[targethomedata['Protocol'] == 6]\n",
    "nothomedata=nothomedata.head(n=500)\n",
    "\n",
    "print(homedata.shape)\n",
    "print(nothomedata.shape)\n",
    "print(targethomedata.shape)"
   ]
  },
  {
   "cell_type": "code",
   "execution_count": 3,
   "metadata": {},
   "outputs": [
    {
     "name": "stdout",
     "output_type": "stream",
     "text": [
      "(4601, 84)\n"
     ]
    }
   ],
   "source": [
    "data=homedata.append(nothomedata)\n",
    "print(data.shape)"
   ]
  },
  {
   "cell_type": "code",
   "execution_count": 4,
   "metadata": {},
   "outputs": [
    {
     "data": {
      "text/plain": [
       "<matplotlib.axes._subplots.AxesSubplot at 0x192c1fc18c8>"
      ]
     },
     "execution_count": 4,
     "metadata": {},
     "output_type": "execute_result"
    },
    {
     "data": {
      "image/png": "[encoded data removed]",
      "text/plain": [
       "<Figure size 432x288 with 1 Axes>"
      ]
     },
     "metadata": {
      "needs_background": "light"
     },
     "output_type": "display_data"
    }
   ],
   "source": [
    "data.Label.value_counts().plot(kind='bar')"
   ]
  },
  {
   "cell_type": "code",
   "execution_count": 5,
   "metadata": {},
   "outputs": [
    {
     "name": "stdout",
     "output_type": "stream",
     "text": [
      "outliers.shape (500,)\n",
      "outlier fraction 0.10867202782003912\n",
      "0      1.0\n",
      "1      1.0\n",
      "4      1.0\n",
      "5      1.0\n",
      "8      1.0\n",
      "      ... \n",
      "603   -1.0\n",
      "604   -1.0\n",
      "605   -1.0\n",
      "606   -1.0\n",
      "608   -1.0\n",
      "Name: nothome, Length: 4601, dtype: float64\n"
     ]
    },
    {
     "data": {
      "text/plain": [
       "(4601, 77)"
      ]
     },
     "execution_count": 5,
     "metadata": {},
     "output_type": "execute_result"
    }
   ],
   "source": [
    "data[\"Flow Duration\"] = np.log((data[\"Flow Duration\"] + 0.1).astype(float)) \n",
    "\n",
    "if len(data) !=  0:\n",
    "    data.loc[data['Label'] == \"home\",\"nothome\"] = 1 \n",
    "    data.loc[data['Label'] != \"home\",\"nothome\"] = -1\n",
    "\n",
    "target = data['nothome']\n",
    "\n",
    "outliers = target[target == -1]\n",
    "print(\"outliers.shape\", outliers.shape)\n",
    "print(\"outlier fraction\", outliers.shape[0]/target.shape[0])\n",
    "print(target)\n",
    "\n",
    "data.drop([\"Label\", \"nothome\"], axis=1, inplace=True)\n",
    "data.drop(['Flow ID','Dst IP','Src Port', 'Dst Port','Src IP','Timestamp'], axis=1, inplace=True)\n",
    "data.shape"
   ]
  },
  {
   "cell_type": "code",
   "execution_count": 6,
   "metadata": {},
   "outputs": [
    {
     "name": "stdout",
     "output_type": "stream",
     "text": [
      "0         1.0\n",
      "1         1.0\n",
      "2         1.0\n",
      "3         1.0\n",
      "4         1.0\n",
      "         ... \n",
      "118503    1.0\n",
      "118505    1.0\n",
      "118507    1.0\n",
      "118510    1.0\n",
      "118511    1.0\n",
      "Name: nothome, Length: 38608, dtype: float64\n"
     ]
    },
    {
     "name": "stderr",
     "output_type": "stream",
     "text": [
      "C:\\Users\\lazrag\\Anaconda3\\lib\\site-packages\\pandas\\core\\series.py:679: RuntimeWarning: invalid value encountered in log\n",
      "  result = getattr(ufunc, method)(*inputs, **kwargs)\n"
     ]
    },
    {
     "data": {
      "text/plain": [
       "(38608, 77)"
      ]
     },
     "execution_count": 6,
     "metadata": {},
     "output_type": "execute_result"
    }
   ],
   "source": [
    "targethomedata[\"Flow Duration\"] = np.log((targethomedata[\"Flow Duration\"] + 0.1).astype(float)) \n",
    "\n",
    "if len(targethomedata) !=  0:\n",
    "    targethomedata.loc[targethomedata['Label'] == \"home\",\"nothome\"] = 1 \n",
    "    targethomedata.loc[targethomedata['Label'] != \"home\",\"nothome\"] = -1\n",
    "\n",
    "targethome = targethomedata['nothome']\n",
    "print(targethome)\n",
    "\n",
    "targethomedata.drop([\"Label\", \"nothome\"], axis=1, inplace=True)\n",
    "targethomedata.drop(['Flow ID','Dst IP','Src Port', 'Dst Port','Src IP','Timestamp'], axis=1, inplace=True)\n",
    "targethomedata.shape"
   ]
  },
  {
   "cell_type": "code",
   "execution_count": 7,
   "metadata": {},
   "outputs": [],
   "source": [
    "from sklearn.preprocessing import minmax_scale\n"
   ]
  },
  {
   "cell_type": "code",
   "execution_count": 8,
   "metadata": {},
   "outputs": [],
   "source": [
    "train_scaled = minmax_scale(data, axis = 0)\n",
    "test_scaled = minmax_scale(targethomedata, axis = 0)"
   ]
  },
  {
   "cell_type": "code",
   "execution_count": 9,
   "metadata": {},
   "outputs": [],
   "source": [
    "nbrcol = train_scaled.shape[1]\n"
   ]
  },
  {
   "cell_type": "code",
   "execution_count": 10,
   "metadata": {},
   "outputs": [],
   "source": [
    "#Split some training and test data from the source set to evaluate later\n",
    "from sklearn.model_selection import train_test_split\n",
    "train_data, test_data = train_test_split(train_scaled, train_size = 0.6)"
   ]
  },
  {
   "cell_type": "code",
   "execution_count": 11,
   "metadata": {},
   "outputs": [],
   "source": [
    "# Building the Input Layer \n",
    "input_layer = Input(shape =(nbrcol, )) \n",
    "  \n",
    "# Building the Encoder network \n",
    "encoded = Dense(100, activation ='tanh', \n",
    "                activity_regularizer = regularizers.l1(10e-5))(input_layer) \n",
    "encoded = Dense(50, activation ='tanh', \n",
    "                activity_regularizer = regularizers.l1(10e-5))(encoded) \n",
    "encoded = Dense(25, activation ='tanh', \n",
    "                activity_regularizer = regularizers.l1(10e-5))(encoded) \n",
    "encoded = Dense(12, activation ='tanh', \n",
    "                activity_regularizer = regularizers.l1(10e-5))(encoded) \n",
    "encoded = Dense(6, activation ='relu')(encoded) \n",
    "  \n",
    "# Building the Decoder network \n",
    "decoded = Dense(12, activation ='tanh')(encoded) \n",
    "decoded = Dense(25, activation ='tanh')(decoded) \n",
    "decoded = Dense(50, activation ='tanh')(decoded) \n",
    "decoded = Dense(100, activation ='tanh')(decoded) \n",
    "  \n",
    "# Building the Output Layer \n",
    "output_layer = Dense(nbrcol, activation ='relu')(decoded) "
   ]
  },
  {
   "cell_type": "code",
   "execution_count": 12,
   "metadata": {},
   "outputs": [],
   "source": [
    "autoencoder = Model(input_layer, output_layer) \n",
    "autoencoder.compile(optimizer =\"adadelta\", loss =\"mse\") "
   ]
  },
  {
   "cell_type": "code",
   "execution_count": 13,
   "metadata": {},
   "outputs": [
    {
     "name": "stdout",
     "output_type": "stream",
     "text": [
      "Model: \"model_1\"\n",
      "_________________________________________________________________\n",
      "Layer (type)                 Output Shape              Param #   \n",
      "=================================================================\n",
      "input_1 (InputLayer)         (None, 77)                0         \n",
      "_________________________________________________________________\n",
      "dense_1 (Dense)              (None, 100)               7800      \n",
      "_________________________________________________________________\n",
      "dense_2 (Dense)              (None, 50)                5050      \n",
      "_________________________________________________________________\n",
      "dense_3 (Dense)              (None, 25)                1275      \n",
      "_________________________________________________________________\n",
      "dense_4 (Dense)              (None, 12)                312       \n",
      "_________________________________________________________________\n",
      "dense_5 (Dense)              (None, 6)                 78        \n",
      "_________________________________________________________________\n",
      "dense_6 (Dense)              (None, 12)                84        \n",
      "_________________________________________________________________\n",
      "dense_7 (Dense)              (None, 25)                325       \n",
      "_________________________________________________________________\n",
      "dense_8 (Dense)              (None, 50)                1300      \n",
      "_________________________________________________________________\n",
      "dense_9 (Dense)              (None, 100)               5100      \n",
      "_________________________________________________________________\n",
      "dense_10 (Dense)             (None, 77)                7777      \n",
      "=================================================================\n",
      "Total params: 29,101\n",
      "Trainable params: 29,101\n",
      "Non-trainable params: 0\n",
      "_________________________________________________________________\n"
     ]
    }
   ],
   "source": [
    "autoencoder.summary()"
   ]
  },
  {
   "cell_type": "code",
   "execution_count": 14,
   "metadata": {},
   "outputs": [
    {
     "name": "stderr",
     "output_type": "stream",
     "text": [
      "C:\\Users\\lazrag\\Anaconda3\\lib\\site-packages\\ipykernel_launcher.py:1: UserWarning: The `nb_epoch` argument in `fit` has been renamed `epochs`.\n",
      "  \"\"\"Entry point for launching an IPython kernel.\n"
     ]
    },
    {
     "name": "stdout",
     "output_type": "stream",
     "text": [
      "WARNING:tensorflow:From C:\\Users\\lazrag\\Anaconda3\\lib\\site-packages\\keras\\backend\\tensorflow_backend.py:422: The name tf.global_variables is deprecated. Please use tf.compat.v1.global_variables instead.\n",
      "\n",
      "Train on 2760 samples, validate on 1841 samples\n",
      "Epoch 1/10\n",
      "2760/2760 [==============================] - 1s 210us/step - loss: 0.1014 - val_loss: 0.0694\n",
      "Epoch 2/10\n",
      "2760/2760 [==============================] - 0s 78us/step - loss: 0.0659 - val_loss: 0.0598\n",
      "Epoch 3/10\n",
      "2760/2760 [==============================] - 0s 77us/step - loss: 0.0599 - val_loss: 0.0553\n",
      "Epoch 4/10\n",
      "2760/2760 [==============================] - 0s 77us/step - loss: 0.0557 - val_loss: 0.0511\n",
      "Epoch 5/10\n",
      "2760/2760 [==============================] - 0s 76us/step - loss: 0.0518 - val_loss: 0.0444\n",
      "Epoch 6/10\n",
      "2760/2760 [==============================] - 0s 77us/step - loss: 0.0460 - val_loss: 0.0426\n",
      "Epoch 7/10\n",
      "2760/2760 [==============================] - 0s 77us/step - loss: 0.0443 - val_loss: 0.0430\n",
      "Epoch 8/10\n",
      "2760/2760 [==============================] - 0s 76us/step - loss: 0.0428 - val_loss: 0.0434\n",
      "Epoch 9/10\n",
      "2760/2760 [==============================] - 0s 77us/step - loss: 0.0418 - val_loss: 0.0414\n",
      "Epoch 10/10\n",
      "2760/2760 [==============================] - 0s 76us/step - loss: 0.0408 - val_loss: 0.0390\n"
     ]
    }
   ],
   "source": [
    "train = autoencoder.fit(train_data, train_data, nb_epoch = 10, batch_size = 32, shuffle = False, validation_data = (test_data, test_data))"
   ]
  },
  {
   "cell_type": "code",
   "execution_count": 15,
   "metadata": {},
   "outputs": [
    {
     "data": {
      "image/png": "[encoded data removed]",
      "text/plain": [
       "<Figure size 432x288 with 1 Axes>"
      ]
     },
     "metadata": {
      "needs_background": "light"
     },
     "output_type": "display_data"
    }
   ],
   "source": [
    "loss = train.history['loss']\n",
    "val_loss = train.history['val_loss']\n",
    "epochs = range(len(loss))\n",
    "\n",
    "plt.figure()\n",
    "plt.plot(epochs, loss, 'bo', label='Training loss')\n",
    "plt.plot(epochs, val_loss, 'b', label='Validation loss')\n",
    "plt.title('Training and validation loss')\n",
    "plt.legend()\n",
    "plt.show()"
   ]
  },
  {
   "cell_type": "code",
   "execution_count": null,
   "metadata": {},
   "outputs": [],
   "source": []
  }
 ],
 "metadata": {
  "kernelspec": {
   "display_name": "Python 3",
   "language": "python",
   "name": "python3"
  },
  "language_info": {
   "codemirror_mode": {
    "name": "ipython",
    "version": 3
   },
   "file_extension": ".py",
   "mimetype": "text/x-python",
   "name": "python",
   "nbconvert_exporter": "python",
   "pygments_lexer": "ipython3",
   "version": "3.7.6"
  }
 },
 "nbformat": 4,
 "nbformat_minor": 4
}
